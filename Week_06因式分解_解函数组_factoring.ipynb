{
  "nbformat": 4,
  "nbformat_minor": 0,
  "metadata": {
    "colab": {
      "provenance": [],
      "authorship_tag": "ABX9TyMfgvozbCQ5Y6uJ0fnmmonE",
      "include_colab_link": true
    },
    "kernelspec": {
      "name": "python3",
      "display_name": "Python 3"
    },
    "language_info": {
      "name": "python"
    }
  },
  "cells": [
    {
      "cell_type": "markdown",
      "metadata": {
        "id": "view-in-github",
        "colab_type": "text"
      },
      "source": [
        "<a href=\"https://colab.research.google.com/github/hemu2014/python-College-Algebra-with-Python/blob/main/Week_06%E5%9B%A0%E5%BC%8F%E5%88%86%E8%A7%A3_%E8%A7%A3%E5%87%BD%E6%95%B0%E7%BB%84_factoring.ipynb\" target=\"_parent\"><img src=\"https://colab.research.google.com/assets/colab-badge.svg\" alt=\"Open In Colab\"/></a>"
      ]
    },
    {
      "cell_type": "markdown",
      "source": [
        "The modulus (`%`) finds the remainder\n",
        "\n",
        "模数（ % ）用于求余数"
      ],
      "metadata": {
        "id": "x8RGjdh8PwIe"
      }
    },
    {
      "cell_type": "code",
      "source": [
        "#print(5%3)\n",
        "\n",
        "print(31%10) # 取余\n"
      ],
      "metadata": {
        "id": "2uoBCLFnPvtC",
        "colab": {
          "base_uri": "https://localhost:8080/"
        },
        "outputId": "51fe76cc-ef65-4868-b692-e7ec8cc62192"
      },
      "execution_count": 1,
      "outputs": [
        {
          "output_type": "stream",
          "name": "stdout",
          "text": [
            "1\n"
          ]
        }
      ]
    },
    {
      "cell_type": "markdown",
      "source": [
        "Use the modulus in a loop to find factors\n",
        "\n",
        "使用模数在循环中寻找因子"
      ],
      "metadata": {
        "id": "JLX_cWbhQU3v"
      }
    },
    {
      "cell_type": "code",
      "execution_count": 2,
      "metadata": {
        "id": "w--Zka73nnBA",
        "colab": {
          "base_uri": "https://localhost:8080/"
        },
        "outputId": "15236fb5-8d34-4001-90a0-3ecea89c6833"
      },
      "outputs": [
        {
          "output_type": "stream",
          "name": "stdout",
          "text": [
            "1\n",
            "2\n",
            "3\n",
            "4\n",
            "6\n",
            "12\n"
          ]
        }
      ],
      "source": [
        "\n",
        "number = 12\n",
        "\n",
        "# Find all factors\n",
        "for test_factor in range(1,number+1): # 从1到number利用取余找出整除的数（因子）\n",
        "    if number%test_factor==0:\n",
        "        print(test_factor)\n"
      ]
    },
    {
      "cell_type": "markdown",
      "source": [
        "Reduce fractions to lowest terms\n",
        "\n",
        "将分数化简为最简形式"
      ],
      "metadata": {
        "id": "_D4O3GOnROuQ"
      }
    },
    {
      "cell_type": "code",
      "source": [
        "numerator = 12\n",
        "denominator = 24\n",
        "factor = [] # 存储两数的公共因子\n",
        "\n",
        "# Find greatest common factor\n",
        "for test_factor in range(1,denominator+1):\n",
        "    if numerator%test_factor==0 and denominator%test_factor==0: #两数的公共因子\n",
        "        factor.append(test_factor)\n",
        "print(factor)\n",
        "factor_max = factor[-1]  # j将最大的因子取出\n",
        "\n",
        "# Divide out greatest common factor 化简\n",
        "n = int(numerator/factor_max)\n",
        "d = int(denominator/factor_max)\n",
        "\n",
        "print(\"original: \", numerator, \"/\", denominator)\n",
        "print(\"reduced: \", n, \"/\", d)\n",
        "print(f\"original: {numerator} / {denominator}\")\n",
        "print(f\"reduced: {n} / {d}\")"
      ],
      "metadata": {
        "id": "6Q01c0zyQd2-",
        "colab": {
          "base_uri": "https://localhost:8080/"
        },
        "outputId": "bf5a6173-061c-4f2c-b046-c181aad5d662"
      },
      "execution_count": 4,
      "outputs": [
        {
          "output_type": "stream",
          "name": "stdout",
          "text": [
            "[1, 2, 3, 4, 6, 12]\n",
            "original:  12 / 24\n",
            "reduced:  1 / 2\n",
            "original: 12 / 24\n",
            "reduced: 1 / 2\n"
          ]
        }
      ]
    },
    {
      "cell_type": "markdown",
      "source": [
        "You can add this code to the decimal-to-fraction code\n",
        "\n",
        "您可以将此代码添加到十进制转分数的代码中"
      ],
      "metadata": {
        "id": "PNMJQnJITZsU"
      }
    },
    {
      "cell_type": "code",
      "source": [
        "# Get the decimal number to convert\n",
        "digits = input(\"Enter a decimal number to convert: \")\n",
        "\n",
        "# Convert to fraction\n",
        "digits_list = digits.split(\".\")\n",
        "exponent = int(len(digits_list[1]))\n",
        "n = float(digits)\n",
        "numerator = int(n * 10**exponent)\n",
        "denominator = 10**exponent\n",
        "print(f\"original: {numerator} / {denominator}\")\n",
        "# Reduce that fraction\n",
        "factor = [] # 存储两数的公共因子\n",
        "for test_factor in range(1,denominator+1):\n",
        "    if numerator%test_factor==0 and denominator%test_factor==0:\n",
        "        factor.append(test_factor)\n",
        "print(factor)\n",
        "factor_max = factor[-1]  # j将最大的因子取出\n",
        "# Divide out greatest common factor\n",
        "num = int(numerator/factor_max)\n",
        "den = int(denominator/factor_max)\n",
        "\n",
        "# Output\n",
        "print(\"The decimal is \", n)\n",
        "print(\"The fraction is \", num, \"/\", den)\n"
      ],
      "metadata": {
        "id": "sCvtP7UCSU8X",
        "colab": {
          "base_uri": "https://localhost:8080/"
        },
        "outputId": "dd76b3fd-b80c-487a-c361-9a6ab96cde40"
      },
      "execution_count": 9,
      "outputs": [
        {
          "output_type": "stream",
          "name": "stdout",
          "text": [
            "Enter a decimal number to convert: 0.25\n",
            "original: 25 / 100\n",
            "[1, 5, 25]\n",
            "The decimal is  0.25\n",
            "The fraction is  1 / 4\n"
          ]
        }
      ]
    },
    {
      "cell_type": "markdown",
      "source": [
        "Next level... factoring square roots\n",
        "\n",
        "下一级...平方根因式分解"
      ],
      "metadata": {
        "id": "KMJIAXH8Vgg5"
      }
    },
    {
      "cell_type": "code",
      "source": [
        "import math\n",
        "\n",
        "print(math.sqrt(24)) # 计算√24的值\n"
      ],
      "metadata": {
        "id": "-giePhMGUxd3",
        "colab": {
          "base_uri": "https://localhost:8080/"
        },
        "outputId": "fb97f98d-2cfc-4d49-efe7-78fe8ff01305"
      },
      "execution_count": 10,
      "outputs": [
        {
          "output_type": "stream",
          "name": "stdout",
          "text": [
            "4.898979485566356\n"
          ]
        }
      ]
    },
    {
      "cell_type": "markdown",
      "source": [
        "Divide out any perfect square factors. For example:<br>\n",
        " $\\sqrt{12}$ = $\\sqrt{4 * 3}$ = 2$\\sqrt{3}$<br>\n",
        "Because 4 is a square number, the square root of 4 is now outside the radical."
      ],
      "metadata": {
        "id": "raHMQ-AIWgUs"
      }
    },
    {
      "cell_type": "code",
      "source": [
        "import math\n",
        "\n",
        "# number to factor\n",
        "n = 12\n",
        "\n",
        "# This variable will change\n",
        "max_factor = []\n",
        "\n",
        "# The key ingredient，求解上限\n",
        "upper_limit = math.floor(math.sqrt(n)) + 1  # math.floor（），取整在加一，剩余的小数部分不会大于1\n",
        "\n",
        "# Find square factors\n",
        "for maybe_factor in range(1,upper_limit):\n",
        "    if n % (maybe_factor**2) == 0:\n",
        "        max_factor.append(maybe_factor)\n",
        "print(max_factor)\n",
        "# Divide out the greatest square factor\n",
        "#for factor in max_factor:\n",
        "#    n = n / (factor**2)\n",
        "max_factor = max_factor[-1]\n",
        "# Results so far\n",
        "print(\"初始值：n = \", n)\n",
        "print(\"平方根：Square rooted factor = \", max_factor)\n",
        "print(\"Square factor = \", max_factor**2)\n",
        "print(\"剩余部分：integer: \", n/(max_factor**2))\n"
      ],
      "metadata": {
        "id": "aR-ny0yGWy_5",
        "colab": {
          "base_uri": "https://localhost:8080/"
        },
        "outputId": "abf50d8f-6c75-43f9-b12e-26969b2e67aa"
      },
      "execution_count": 14,
      "outputs": [
        {
          "output_type": "stream",
          "name": "stdout",
          "text": [
            "[1, 2]\n",
            "初始值：n =  12\n",
            "平方根：Square rooted factor =  2\n",
            "Square factor =  4\n",
            "剩余部分：integer:  3.0\n"
          ]
        }
      ]
    },
    {
      "cell_type": "markdown",
      "source": [
        "Using Sympy to make this look nice\n",
        "\n",
        "使用 Sympy 使这看起来更美观\n",
        "\n",
        "* 注意两者的max_factor列表存储的结果不一样，一个是因子，另一个是因子的平方，注意区别"
      ],
      "metadata": {
        "id": "66QuFOmPavkK"
      }
    },
    {
      "cell_type": "code",
      "source": [
        "import math\n",
        "import sympy\n",
        "from sympy import symbols\n",
        "\n",
        "n = 24\n",
        "# Use these variables\n",
        "upper_limit = math.floor(math.sqrt(n)) + 1\n",
        "print(f\"upper_limit: {upper_limit}\")\n",
        "max_factor = []\n",
        "other_factor = 1\n",
        "square_root = 1\n",
        "\n",
        "# Slightly different variable strategy\n",
        "for maybe_factor in range(1, upper_limit):\n",
        "    if n % (maybe_factor**2) == 0:\n",
        "        max_factor.append(maybe_factor)\n",
        "print(max_factor)\n",
        "max_factor = max_factor[-1]\n",
        "\n",
        "# Divide out the greatest square factor\n",
        "other_factor = n/max_factor**2 # 剩余部分\n",
        "# Output variables\n",
        "square_root = int(max_factor)\n",
        "other_factor = int(other_factor)\n",
        "print(f\"square_root: {square_root}\")\n",
        "print(f\"other_factor: {other_factor}\")\n",
        "output = square_root*sympy.sqrt(other_factor) # 2 * √6\n",
        "\n",
        "# Sympy output without print statement - must be last line\n",
        "output"
      ],
      "metadata": {
        "colab": {
          "base_uri": "https://localhost:8080/",
          "height": 111
        },
        "id": "TpRjtbyOqi8B",
        "outputId": "eddfd0fd-b98c-4b10-d521-8dafda3a6047"
      },
      "execution_count": 20,
      "outputs": [
        {
          "output_type": "stream",
          "name": "stdout",
          "text": [
            "upper_limit: 5\n",
            "[1, 2]\n",
            "square_root: 2\n",
            "other_factor: 6\n"
          ]
        },
        {
          "output_type": "execute_result",
          "data": {
            "text/plain": [
              "2*sqrt(6)"
            ],
            "text/latex": "$\\displaystyle 2 \\sqrt{6}$"
          },
          "metadata": {},
          "execution_count": 20
        }
      ]
    },
    {
      "cell_type": "code",
      "source": [
        "import math\n",
        "import sympy\n",
        "from sympy import symbols\n",
        "\n",
        "n = 24\n",
        "# Use these variables\n",
        "upper_limit = math.floor(math.sqrt(n)) + 1\n",
        "print(f\"upper_limit: {upper_limit}\")\n",
        "max_factor = []\n",
        "other_factor = 1\n",
        "square_root = 1\n",
        "\n",
        "# Slightly different variable strategy\n",
        "for maybe_factor in range(1, upper_limit):\n",
        "    if n % (maybe_factor**2) == 0:\n",
        "        max_factor.append(maybe_factor**2)\n",
        "print(max_factor)\n",
        "max_factor = max_factor[-1]\n",
        "\n",
        "# Divide out the greatest square factor\n",
        "other_factor = n/max_factor # 剩余部分\n",
        "# Output variables\n",
        "square_root = int(math.sqrt(max_factor))\n",
        "other_factor = int(other_factor)\n",
        "print(f\"square_root: {square_root}\")\n",
        "print(f\"other_factor: {other_factor}\")\n",
        "output = square_root*sympy.sqrt(other_factor) # 2 * √6\n",
        "\n",
        "# Sympy output without print statement - must be last line\n",
        "output"
      ],
      "metadata": {
        "id": "GOGAgeL5aOUn",
        "colab": {
          "base_uri": "https://localhost:8080/",
          "height": 111
        },
        "outputId": "7c8b45d1-23c1-4daf-af8c-ace74fbdf62f"
      },
      "execution_count": 18,
      "outputs": [
        {
          "output_type": "stream",
          "name": "stdout",
          "text": [
            "upper_limit: 5\n",
            "[1, 4]\n",
            "square_root: 2\n",
            "other_factor: 6\n"
          ]
        },
        {
          "output_type": "execute_result",
          "data": {
            "text/plain": [
              "2*sqrt(6)"
            ],
            "text/latex": "$\\displaystyle 2 \\sqrt{6}$"
          },
          "metadata": {},
          "execution_count": 18
        }
      ]
    },
    {
      "cell_type": "markdown",
      "source": [
        "# 学习如何绘制方程组图形\n",
        "\n",
        "Use numpy library instead of a loop\n",
        "\n",
        "使用 numpy 库代替循环"
      ],
      "metadata": {
        "id": "LnhjcGDZrbo6"
      }
    },
    {
      "cell_type": "code",
      "source": [
        "import matplotlib.pyplot as plt\n",
        "import numpy as np\n",
        "\n",
        "xmin = -10\n",
        "xmax = 10\n",
        "ymin = -10\n",
        "ymax = 10\n",
        "\n",
        "# Define how many points to plot\n",
        "points = 10*(xmax-xmin)\n",
        "\n",
        "# Define the array of x values once\n",
        "x = np.linspace(xmin,xmax,points)  # 生成一系列的点\n",
        "\n",
        "fig, ax = plt.subplots()\n",
        "plt.axis([xmin,xmax,ymin,ymax]) # window size\n",
        "plt.plot([xmin,xmax],[0,0],'b') # blue x axis\n",
        "plt.plot([0,0],[ymin,ymax], 'b') # blue y axis\n",
        "\n",
        "# line 1\n",
        "y1 = 3*x\n",
        "plt.plot(x, y1, label=\"y1=3x\")\n",
        "\n",
        "# line 2\n",
        "y2 = x**3\n",
        "plt.plot(x, y2, label=\"y2=x^3\")\n",
        "\n",
        "# line 3\n",
        "y3 = 2*x**2\n",
        "plt.plot(x, y3, label=\"y3=2x^2\")\n",
        "ax.legend()\n",
        "ax.grid(True)\n",
        "plt.show()\n",
        "\n"
      ],
      "metadata": {
        "colab": {
          "base_uri": "https://localhost:8080/",
          "height": 435
        },
        "id": "z44Q-o6rrmg5",
        "outputId": "dae7da30-d4e8-4646-f241-0926ba9d1022"
      },
      "execution_count": 23,
      "outputs": [
        {
          "output_type": "display_data",
          "data": {
            "text/plain": [
              "<Figure size 640x480 with 1 Axes>"
            ],
            "image/png": "[encoded data removed]"
          },
          "metadata": {}
        }
      ]
    },
    {
      "cell_type": "markdown",
      "source": [
        "Shading and graphing inequalities\n",
        "阴影和不等式绘图"
      ],
      "metadata": {
        "id": "vdSbrlHgPKy0"
      }
    },
    {
      "cell_type": "code",
      "source": [
        "import matplotlib.pyplot as plt\n",
        "import numpy as np\n",
        "\n",
        "xmin = -10\n",
        "xmax = 10\n",
        "ymin = -10\n",
        "ymax = 10\n",
        "points = 2*(xmax-xmin)\n",
        "x = np.linspace(xmin,xmax,points)\n",
        "\n",
        "fig, ax = plt.subplots()\n",
        "plt.axis([xmin,xmax,ymin,ymax]) # window size\n",
        "plt.plot([xmin,xmax],[0,0],'b') # blue x axis\n",
        "plt.plot([0,0],[ymin,ymax], 'b') # blue y axis\n",
        "\n",
        "# line 1\n",
        "y1 = x+6\n",
        "plt.plot(x, y1,'-')\n",
        "plt.fill_between(x, y1, ymax, facecolor='red')\n",
        "\n",
        "# line 2\n",
        "y2 = x+3\n",
        "plt.plot(x, y2,'-')\n",
        "plt.fill_between(x, y2, y1, facecolor='yellow')\n",
        "\n",
        "# line 3\n",
        "y3 = x-1\n",
        "plt.plot(x, y3)\n",
        "plt.fill_between(x, y3, y2, facecolor='green')\n",
        "\n",
        "# line 4\n",
        "y4 = x-4\n",
        "plt.plot(x, y4)\n",
        "plt.fill_between(x, y4, y3, facecolor='blue')\n",
        "\n",
        "plt.show()\n",
        "\n"
      ],
      "metadata": {
        "id": "OhOPIc1UPGyE",
        "colab": {
          "base_uri": "https://localhost:8080/",
          "height": 269
        },
        "outputId": "30b01316-0835-4f3c-a9d3-e4948d76591c"
      },
      "execution_count": null,
      "outputs": [
        {
          "output_type": "display_data",
          "data": {
            "text/plain": [
              "<Figure size 432x288 with 1 Axes>"
            ],
            "image/png": "[encoded data removed]"
          },
          "metadata": {
            "needs_background": "light"
          }
        }
      ]
    },
    {
      "cell_type": "markdown",
      "source": [
        "Interactive graphs\n",
        "\n",
        "交互式图表"
      ],
      "metadata": {
        "id": "YFY0C-M1Oq2G"
      }
    },
    {
      "cell_type": "code",
      "source": [
        "%matplotlib inline\n",
        "from ipywidgets import interactive\n",
        "import matplotlib.pyplot as plt\n",
        "import numpy as np\n",
        "\n",
        "# Define the graphing function\n",
        "def f(m, b, zoom):\n",
        "    xmin = -zoom\n",
        "    xmax = zoom\n",
        "    ymin = -zoom\n",
        "    ymax = zoom\n",
        "    points = 10*xmax-xmin\n",
        "    x = np.linspace(xmin, xmax, points)\n",
        "\n",
        "    plt.axis([xmin,xmax,ymin,ymax]) # window size\n",
        "    plt.plot([xmin,xmax],[0,0],'black') # black x axis\n",
        "    plt.plot([0,0],[ymin,ymax], 'black') # black y axis\n",
        "\n",
        "    # Line 1\n",
        "    y1 = 3*x**2 - 4\n",
        "\n",
        "    # Line 2\n",
        "    plt.plot(x, y1)\n",
        "    plt.show()\n",
        "    # plt.fill_between(x, y3, y2, facecolor='blue')\n",
        "\n",
        "# Set up the sliders\n",
        "interactive_plot = interactive(f, m=(-9, 9), b=(-9, 9), zoom=(1,100))\n",
        "interactive_plot\n",
        "\n"
      ],
      "metadata": {
        "id": "h8Zx8XEKOpmm",
        "colab": {
          "base_uri": "https://localhost:8080/",
          "height": 377,
          "referenced_widgets": [
            "82bdc32bd3444656b33ef77e6b1a9df3",
            "30306d5dbaa640bfb4106d7e0d76179e",
            "c955124bc10648cb822c997a1abe2163",
            "620cf38063344f8f82d3b85da06c175e",
            "69ae4277bc564fa3b7faed0ffbb86bb6",
            "effeba1d7b044a4dab3a157b5179ec15",
            "98ba609e227148b1aaa37091cbfbb9d2",
            "554fd64a74734ad3bb441cc8dd5e37a0",
            "9179e4972d1947358dc81cd64798d2e1",
            "9dd511d67c0d40eb928834acab2c1dcf",
            "59aa74e1140049e6beba6a1673f68407",
            "af74cff2d9434555a3e8d872b0ccc736",
            "d66e1334d45948e1a5bf229c025541f3"
          ]
        },
        "outputId": "919543da-53f9-4f99-e8d5-688f20740ffb"
      },
      "execution_count": null,
      "outputs": [
        {
          "output_type": "display_data",
          "data": {
            "text/plain": [
              "interactive(children=(IntSlider(value=0, description='m', max=9, min=-9), IntSlider(value=0, description='b', …"
            ],
            "application/vnd.jupyter.widget-view+json": {
              "version_major": 2,
              "version_minor": 0,
              "model_id": "82bdc32bd3444656b33ef77e6b1a9df3"
            }
          },
          "metadata": {}
        }
      ]
    },
    {
      "cell_type": "markdown",
      "source": [
        "Graphing weather data\n",
        "\n",
        "绘制天气数据"
      ],
      "metadata": {
        "id": "jyrJX8ADT0Il"
      }
    },
    {
      "cell_type": "code",
      "source": [
        "!pip install meteostat\n"
      ],
      "metadata": {
        "id": "6W3y_P9NDost",
        "colab": {
          "base_uri": "https://localhost:8080/"
        },
        "outputId": "63ce9ab1-6c31-41a4-c952-ee3f13d0484f"
      },
      "execution_count": null,
      "outputs": [
        {
          "output_type": "stream",
          "name": "stdout",
          "text": [
            "Looking in indexes: https://pypi.org/simple, https://us-python.pkg.dev/colab-wheels/public/simple/\n",
            "Requirement already satisfied: meteostat in /usr/local/lib/python3.7/dist-packages (1.6.3)\n",
            "Requirement already satisfied: numpy in /usr/local/lib/python3.7/dist-packages (from meteostat) (1.21.6)\n",
            "Requirement already satisfied: pandas>=1.1 in /usr/local/lib/python3.7/dist-packages (from meteostat) (1.3.5)\n",
            "Requirement already satisfied: pytz in /usr/local/lib/python3.7/dist-packages (from meteostat) (2022.1)\n",
            "Requirement already satisfied: python-dateutil>=2.7.3 in /usr/local/lib/python3.7/dist-packages (from pandas>=1.1->meteostat) (2.8.2)\n",
            "Requirement already satisfied: six>=1.5 in /usr/local/lib/python3.7/dist-packages (from python-dateutil>=2.7.3->pandas>=1.1->meteostat) (1.15.0)\n"
          ]
        }
      ]
    },
    {
      "cell_type": "markdown",
      "source": [
        "Columns:<br>\n",
        "time, tavg, tmin, tmax, prcp, snow, wdir, wspd, wpgt, pres, tsun\n",
        "\n",
        "时间，平均温度，最低温度，最高温度，降水量，降雪量，风向，风速，露点温度，气压，日照时数"
      ],
      "metadata": {
        "id": "7bLdApPhJV12"
      }
    },
    {
      "cell_type": "code",
      "execution_count": null,
      "metadata": {
        "id": "Q9vR8jWPC48h",
        "colab": {
          "base_uri": "https://localhost:8080/",
          "height": 291
        },
        "outputId": "8212f53e-a9be-4b43-d708-8b274656fdda"
      },
      "outputs": [
        {
          "output_type": "display_data",
          "data": {
            "text/plain": [
              "<Figure size 432x288 with 1 Axes>"
            ],
            "image/png": "[encoded data removed]"
          },
          "metadata": {
            "needs_background": "light"
          }
        }
      ],
      "source": [
        "# Import Meteostat library and dependencies\n",
        "from datetime import datetime\n",
        "import matplotlib.pyplot as plt\n",
        "from meteostat import Point, Daily\n",
        "\n",
        "# Documentation\n",
        "# https://dev.meteostat.net/python/daily.html#data-structure\n",
        "\n",
        "# Set time period\n",
        "start = datetime(2022, 1, 1)\n",
        "end = datetime(2022, 7, 31)\n",
        "\n",
        "# Create Point for Vancouver,BC or Philadelphia, PA\n",
        "#vancouver = Point(49.2497, -123.1193, 70)\n",
        "philly = Point(39.97,-75.13,25)\n",
        "\n",
        "# Get daily data for 2018\n",
        "data = Daily(philly, start, end)\n",
        "data = data.fetch()\n",
        "\n",
        "# Plot line chart including average, minimum and maximum temperature\n",
        "data.plot(y=['tavg', 'prcp','snow'])\n",
        "plt.show()\n"
      ]
    },
    {
      "cell_type": "code",
      "source": [],
      "metadata": {
        "id": "mRt-Mvm_s8yp"
      },
      "execution_count": null,
      "outputs": []
    },
    {
      "cell_type": "markdown",
      "source": [
        "Simplest way to solve a system of equations. Set each equation equal to zero\n",
        "\n",
        "最简单解方程组的方法。将每个方程设为零"
      ],
      "metadata": {
        "id": "7lwYtjDVo-P3"
      }
    },
    {
      "cell_type": "code",
      "execution_count": null,
      "metadata": {
        "colab": {
          "base_uri": "https://localhost:8080/"
        },
        "id": "sxXiPuS0gU3i",
        "outputId": "1fe20671-9fb9-4033-d146-3220a498377b"
      },
      "outputs": [
        {
          "output_type": "stream",
          "name": "stdout",
          "text": [
            "FiniteSet((-1, 3))\n"
          ]
        }
      ],
      "source": [
        "from sympy import *\n",
        "\n",
        "x,y = symbols('x y')\n",
        "\n",
        "# Equations set equal to zero\n",
        "first = 2*x + y - 1\n",
        "second = x - 2*y + 7\n",
        "\n",
        "# The solution\n",
        "print(linsolve([first, second], (x, y)))\n"
      ]
    },
    {
      "cell_type": "markdown",
      "source": [
        ":Nicer looking output\n",
        "更美观的输出"
      ],
      "metadata": {
        "id": "bEob2sM-12VW"
      }
    },
    {
      "cell_type": "code",
      "source": [
        "from sympy import *\n",
        "\n",
        "x,y = symbols('x y')\n",
        "\n",
        "first = 2*x + y - 1\n",
        "second = x - 2*y + 7\n",
        "\n",
        "\n",
        "# parse finite set answer as coordinate pair\n",
        "solution = linsolve([first, second], (x, y))\n",
        "x_solution = solution.args[0][0]\n",
        "y_solution = solution.args[0][1]\n",
        "\n",
        "# Print a coordinate pair\n",
        "print(\"(\", x_solution, \",\", y_solution, \")\")\n"
      ],
      "metadata": {
        "id": "9pYhrMOgg_go"
      },
      "execution_count": null,
      "outputs": []
    },
    {
      "cell_type": "markdown",
      "source": [
        "Solve and graph. Factor to change from \"`0 = `\" to \"`y = `\" preparing to graph\n",
        "\n",
        "\n",
        "求解并绘图。将因式分解从\" 0 = \" 转换为\" y = \" 准备绘图"
      ],
      "metadata": {
        "id": "q4FlfI5cpqNi"
      }
    },
    {
      "cell_type": "code",
      "source": [
        "from sympy import *\n",
        "from sympy.plotting import plot\n",
        "from sympy import sqrt\n",
        "\n",
        "var('x y')\n",
        "\n",
        "# First equation set equal to zero, ready to solve\n",
        "first = -x**2 - y + 10\n",
        "#first = sqrt(x) - y\n",
        "\n",
        "#Second equation set equal to zero, ready to solve\n",
        "second = 2*x**2 - 2*y - 4\n",
        "#second = -x + 5 - y\n",
        "\n",
        "# Solve - can be linear or nonlinear equations\n",
        "solution = nonlinsolve([first, second], (x, y))\n",
        "for a in range(len(solution.args)):\n",
        "    x_solution = solution.args[a][0]\n",
        "    y_solution = solution.args[a][1]\n",
        "    print(\"Solution = (\", x_solution, \",\", y_solution, \")\")\n",
        "\n",
        "# Sympy syntax for equation equal to zero, ready to factor\n",
        "y_first = Eq(first,0)\n",
        "\n",
        "# Sympy solve for y\n",
        "y1 = solve(y_first,y)\n",
        "\n",
        "# Same two steps for second equation\n",
        "y_second = Eq(second,0)\n",
        "y2 = solve(y_second,y)\n",
        "\n",
        "# Show factored results\n",
        "print(\"y = \", y1[0])\n",
        "print(\"y = \", y2[0])\n",
        "\n",
        "# Plot solution\n",
        "x = symbols('x')\n",
        "xmin = -10\n",
        "xmax = 10\n",
        "plot(y1[0], y2[0], (x,xmin,xmax))\n",
        "\n"
      ],
      "metadata": {
        "id": "E4JCVuUKjluH",
        "colab": {
          "base_uri": "https://localhost:8080/",
          "height": 385
        },
        "outputId": "c2666605-5cba-491f-cd03-78bec0e8d203"
      },
      "execution_count": null,
      "outputs": [
        {
          "output_type": "stream",
          "name": "stdout",
          "text": [
            "Solution = ( sqrt(6) , 4 )\n",
            "Solution = ( -sqrt(6) , 4 )\n",
            "y =  10 - x**2\n",
            "y =  x**2 - 2\n"
          ]
        },
        {
          "output_type": "display_data",
          "data": {
            "text/plain": [
              "<Figure size 432x288 with 1 Axes>"
            ],
            "image/png": "[encoded data removed]"
          },
          "metadata": {
            "needs_background": "light"
          }
        },
        {
          "output_type": "execute_result",
          "data": {
            "text/plain": [
              "<sympy.plotting.plot.Plot at 0x7fb416ca9d50>"
            ]
          },
          "metadata": {},
          "execution_count": 16
        }
      ]
    },
    {
      "cell_type": "code",
      "source": [],
      "metadata": {
        "id": "XAd7DTQttBeZ"
      },
      "execution_count": null,
      "outputs": []
    },
    {
      "cell_type": "markdown",
      "source": [
        "Solve a quadratic equation\n",
        "\n",
        "求解二次方程"
      ],
      "metadata": {
        "id": "rOGb3ifTKKnN"
      }
    },
    {
      "cell_type": "code",
      "source": [
        "# Coefficient values\n",
        "a = 1\n",
        "b = 5\n",
        "c = 6\n",
        "\n",
        "print(\"y = \", a, \"x**2 + \", b, \"x + \", c)\n",
        "\n",
        "# Vertex\n",
        "vx = -b/(2*a)\n",
        "vy = a*(vx**2) + b*vx + c\n",
        "print(\"Vertex: (\",vx,\",\",vy,\")\")\n",
        "\n",
        "# Roots\n",
        "d = b**2 - 4*a*c\n",
        "if d>=0:\n",
        "    root_1 = (-b + math.sqrt(d))/(2*a)\n",
        "    root_2 = (-b - math.sqrt(d))/(2*a)\n",
        "    print(\"Roots: x = \", root_1, \" and x = \", root_2)\n",
        "else:\n",
        "    print(\"No real roots\")\n",
        "\n"
      ],
      "metadata": {
        "id": "6EgKPtK6KEiX",
        "colab": {
          "base_uri": "https://localhost:8080/"
        },
        "outputId": "6e0a8f69-0928-4717-fe87-072602a03adf"
      },
      "execution_count": null,
      "outputs": [
        {
          "output_type": "stream",
          "name": "stdout",
          "text": [
            "y =  1 x**2 +  5 x +  6\n",
            "Vertex: ( -2.5 , -0.25 )\n",
            "Roots: x =  -2.0  and x =  -3.0\n"
          ]
        }
      ]
    },
    {
      "cell_type": "markdown",
      "source": [
        "Graph a quadratic function\n",
        "\n",
        "绘制二次函数图"
      ],
      "metadata": {
        "id": "_0W_QJr3L0ED"
      }
    },
    {
      "cell_type": "code",
      "execution_count": null,
      "metadata": {
        "colab": {
          "base_uri": "https://localhost:8080/",
          "height": 322
        },
        "id": "0hOY8qnMvg_d",
        "outputId": "2a02daa2-3d0b-44ac-ea2b-50c395836ce5"
      },
      "outputs": [
        {
          "output_type": "stream",
          "name": "stdout",
          "text": [
            "y =  1 x**2 +  5 x +  6\n",
            "Vertex: ( -2.5 , -0.25 )\n",
            "Roots: x =  -2.0  and x =  -3.0\n"
          ]
        },
        {
          "output_type": "display_data",
          "data": {
            "text/plain": [
              "<Figure size 432x288 with 1 Axes>"
            ],
            "image/png": "[encoded data removed]"
          },
          "metadata": {
            "needs_background": "light"
          }
        }
      ],
      "source": [
        "import matplotlib.pyplot as plt\n",
        "import numpy as np\n",
        "import math\n",
        "\n",
        "a = 1\n",
        "b = 5\n",
        "c = 6\n",
        "\n",
        "print(\"y = \", a, \"x**2 + \", b, \"x + \", c)\n",
        "\n",
        "# Vertex\n",
        "vx = -b/(2*a)\n",
        "vy = a*(vx**2) + b*vx + c\n",
        "print(\"Vertex: (\",vx,\",\",vy,\")\")\n",
        "\n",
        "xmin = -10\n",
        "xmax = 10\n",
        "ymin = -10\n",
        "ymax = 10\n",
        "points = 10*(xmax-xmin)\n",
        "x = np.linspace(xmin,xmax,points)\n",
        "\n",
        "fig, ax = plt.subplots()\n",
        "plt.axis([xmin,xmax,ymin,ymax]) # window size\n",
        "plt.plot([xmin,xmax],[0,0],'b') # blue x axis\n",
        "plt.plot([0,0],[ymin,ymax], 'b') # blue y axis\n",
        "\n",
        "# Graph the parabola\n",
        "y1 = a*x**2 + b*x + c\n",
        "plt.plot(x, y1)\n",
        "\n",
        "# Plot the vertex point\n",
        "plt.plot([vx],[vy], 'ro')\n",
        "\n",
        "# Find and plot the roots\n",
        "d = b**2 - 4*a*c\n",
        "if d>=0:\n",
        "    root_1 = (-b + math.sqrt(d))/(2*a)\n",
        "    root_2 = (-b - math.sqrt(d))/(2*a)\n",
        "    plt.plot([root_1, root_2],[0,0], 'go')\n",
        "    print(\"Roots: x = \", root_1, \" and x = \", root_2)\n",
        "\n",
        "plt.show()\n"
      ]
    },
    {
      "cell_type": "markdown",
      "source": [
        "Sliders to show how a, b, and c affect the graph\n",
        "\n",
        "滑动条以显示 a、b 和 c 如何影响图形"
      ],
      "metadata": {
        "id": "JfvmPbBbMwyy"
      }
    },
    {
      "cell_type": "code",
      "source": [
        "%matplotlib inline\n",
        "from ipywidgets import interactive\n",
        "import matplotlib.pyplot as plt\n",
        "import numpy as np\n",
        "import math\n",
        "\n",
        "# All graphing happens in this function\n",
        "def f(a,b,c):\n",
        "    xmin = -10\n",
        "    xmax = 10\n",
        "    ymin = -10\n",
        "    ymax = 10\n",
        "    points = 10*(xmax-xmin)\n",
        "    x = np.linspace(xmin,xmax,points)\n",
        "\n",
        "    plt.axis([xmin,xmax,ymin,ymax]) # window size\n",
        "    plt.plot([xmin,xmax],[0,0],'b') # x axis\n",
        "    plt.plot([0,0],[ymin,ymax], 'b') # y axis\n",
        "\n",
        "    # Parabola\n",
        "    y1 = a*x**2 + b*x + c\n",
        "    plt.plot(x, y1)\n",
        "\n",
        "    # Vertex\n",
        "    vx = -b/(2*a)\n",
        "    vy = a*(vx**2) + b*vx + c\n",
        "    plt.plot([vx],[vy], 'ro')\n",
        "\n",
        "    # Roots\n",
        "    d = b**2 - 4*a*c\n",
        "    if d>=0:\n",
        "        root_1 = (-b + math.sqrt(d))/(2*a)\n",
        "        root_2 = (-b - math.sqrt(d))/(2*a)\n",
        "        plt.plot([root_1, root_2],[0,0], 'go')\n",
        "\n",
        "    # Set the equation as the title\n",
        "    sa = str(a)\n",
        "    sb = str(b)\n",
        "    sc = str(c)\n",
        "    h1 = \"y = \", sa, \"x**2 + \", sb, \"x + \", sc\n",
        "    h2 = \"\"\n",
        "    for w in h1:\n",
        "        h2 = h2 + w\n",
        "\n",
        "    plt.title(h2)\n",
        "    plt.show()\n",
        "\n",
        "# Interactive creates sliders for a, b, and c values\n",
        "interactive_plot = interactive(f, a=(1, 9), b=(-9,9), c=(-9,9))\n",
        "interactive_plot\n",
        "\n"
      ],
      "metadata": {
        "id": "-u93byP-ykKT",
        "colab": {
          "base_uri": "https://localhost:8080/",
          "height": 377,
          "referenced_widgets": [
            "5ce9085ac687416caa6581d0d505a6dd",
            "06d39acb1ff54f8f82b36906f35a7039",
            "de478b74c38b446f9e8d0605bb0a8ac5",
            "e0b9f0d6e8ac422c9ea6313a77819a69",
            "2ecbca567a6244c597e6418abbe17fe8",
            "794d859582c04c8b932c5dbe5f10395c",
            "557cd5a49dfe48ce8d32cd80276897a6",
            "a9f5436359024934bf766d48793f4bff",
            "3869940bc49742c7898d2b3136c43113",
            "d8a214cc2954464e9e735e7e6321204e",
            "3dd06cc0621d4445ae8906c7b62cc120",
            "3a56ff812dc64a89a0b6596a3cd6c5ba",
            "ae07af8a80394476ac10ebd1bc356831"
          ]
        },
        "outputId": "01b60cb0-61ba-40a2-81c7-5c5353719d32"
      },
      "execution_count": null,
      "outputs": [
        {
          "output_type": "display_data",
          "data": {
            "text/plain": [
              "interactive(children=(IntSlider(value=5, description='a', max=9, min=1), IntSlider(value=0, description='b', m…"
            ],
            "application/vnd.jupyter.widget-view+json": {
              "version_major": 2,
              "version_minor": 0,
              "model_id": "5ce9085ac687416caa6581d0d505a6dd"
            }
          },
          "metadata": {}
        }
      ]
    }
  ]
}
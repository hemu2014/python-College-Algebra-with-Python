{
  "nbformat": 4,
  "nbformat_minor": 0,
  "metadata": {
    "colab": {
      "provenance": [],
      "toc_visible": true,
      "authorship_tag": "ABX9TyMjmlWrymlVCg9isqj5dfA5",
      "include_colab_link": true
    },
    "kernelspec": {
      "name": "python3",
      "display_name": "Python 3"
    },
    "language_info": {
      "name": "python"
    }
  },
  "cells": [
    {
      "cell_type": "markdown",
      "metadata": {
        "id": "view-in-github",
        "colab_type": "text"
      },
      "source": [
        "<a href=\"https://colab.research.google.com/github/hemu2014/python-College-Algebra-with-Python/blob/main/%E4%BB%A3%E6%95%B0%E7%9A%84%E5%95%86%E4%B8%9A%E5%BA%94%E7%94%A8_%E5%A4%8D%E5%88%A9.ipynb\" target=\"_parent\"><img src=\"https://colab.research.google.com/assets/colab-badge.svg\" alt=\"Open In Colab\"/></a>"
      ]
    },
    {
      "cell_type": "markdown",
      "source": [
        "Graphs with no slope and no x value<br>\n",
        "\n",
        "没有斜率且没有 x 值的图\n",
        "y = 5"
      ],
      "metadata": {
        "id": "GpAgDqSo9A7b"
      }
    },
    {
      "cell_type": "code",
      "source": [
        "import matplotlib.pyplot as plt\n",
        "import numpy as np\n",
        "\n",
        "xmin = -10\n",
        "xmax = 10\n",
        "ymin = - 10\n",
        "ymax = 10\n",
        "points = 4*(xmax-xmin)\n",
        "x = np.linspace(xmin,xmax,points)\n",
        "\n",
        "\n",
        "fig, ax = plt.subplots()\n",
        "plt.axis([xmin,xmax,ymin,ymax]) # window size\n",
        "plt.plot([xmin,xmax],[0,0],'b') # blue x axis\n",
        "plt.plot([0,0],[ymin,ymax], 'b') # blue y axis\n",
        "\n",
        "plt.plot([xmin,xmax],[5,5],'r')\n",
        "\n",
        "plt.show()"
      ],
      "metadata": {
        "colab": {
          "base_uri": "https://localhost:8080/",
          "height": 269
        },
        "id": "UJCq1V6E89Yj",
        "outputId": "81073345-21e6-424a-a447-9fe4221b715c"
      },
      "execution_count": null,
      "outputs": [
        {
          "output_type": "display_data",
          "data": {
            "text/plain": [
              "<Figure size 432x288 with 1 Axes>"
            ],
            "image/png": "[encoded data removed]"
          },
          "metadata": {
            "needs_background": "light"
          }
        }
      ]
    },
    {
      "cell_type": "markdown",
      "source": [
        "Linear graphs<br>\n",
        "一次函数图\n",
        "y = x"
      ],
      "metadata": {
        "id": "ISHwRHdO83hs"
      }
    },
    {
      "cell_type": "code",
      "source": [
        "import matplotlib.pyplot as plt\n",
        "import numpy as np\n",
        "\n",
        "xmin = -10\n",
        "xmax = 10\n",
        "ymin = - 10\n",
        "ymax = 10\n",
        "points = 4*(xmax-xmin)\n",
        "x = np.linspace(xmin,xmax,points)\n",
        "\n",
        "fig, ax = plt.subplots()\n",
        "plt.axis([xmin,xmax,ymin,ymax]) # window size\n",
        "plt.plot([xmin,xmax],[0,0],'b') # blue x axis\n",
        "plt.plot([0,0],[ymin,ymax], 'b') # blue y axis\n",
        "\n",
        "plt.plot(x, x)\n",
        "plt.show()\n"
      ],
      "metadata": {
        "colab": {
          "base_uri": "https://localhost:8080/",
          "height": 269
        },
        "id": "qWLJhcrk804G",
        "outputId": "387f0167-5f1b-4eb9-8e7a-50133a3dd1da"
      },
      "execution_count": null,
      "outputs": [
        {
          "output_type": "display_data",
          "data": {
            "text/plain": [
              "<Figure size 432x288 with 1 Axes>"
            ],
            "image/png": "[encoded data removed]"
          },
          "metadata": {
            "needs_background": "light"
          }
        }
      ]
    },
    {
      "cell_type": "markdown",
      "source": [
        "Quadratic graphs<br>\n",
        " 二次函数图\n",
        "y = x<sup>2</sup>"
      ],
      "metadata": {
        "id": "IIMF6zB75yE-"
      }
    },
    {
      "cell_type": "code",
      "execution_count": null,
      "metadata": {
        "colab": {
          "base_uri": "https://localhost:8080/",
          "height": 269
        },
        "id": "fDB-Bjh_4HVh",
        "outputId": "2e52c5cf-50c3-4f7b-bafb-9f22d6394445"
      },
      "outputs": [
        {
          "output_type": "display_data",
          "data": {
            "text/plain": [
              "<Figure size 432x288 with 1 Axes>"
            ],
            "image/png": "[encoded data removed]"
          },
          "metadata": {
            "needs_background": "light"
          }
        }
      ],
      "source": [
        "import matplotlib.pyplot as plt\n",
        "import numpy as np\n",
        "\n",
        "xmin = -10\n",
        "xmax = 10\n",
        "ymin = - 10\n",
        "ymax = 10\n",
        "points = 4*(xmax-xmin)\n",
        "x = np.linspace(xmin,xmax,points)\n",
        "\n",
        "fig, ax = plt.subplots()\n",
        "plt.axis([xmin,xmax,ymin,ymax]) # window size\n",
        "plt.plot([xmin,xmax],[0,0],'b') # blue x axis\n",
        "plt.plot([0,0],[ymin,ymax], 'b') # blue y axis\n",
        "\n",
        "plt.plot(x, x**2)\n",
        "plt.show()\n"
      ]
    },
    {
      "cell_type": "markdown",
      "source": [
        "Cubic graphs<br>\n",
        " 三次函数图\n",
        "y = x<sup>3</sup>"
      ],
      "metadata": {
        "id": "-XpNCu_V58zD"
      }
    },
    {
      "cell_type": "code",
      "source": [
        "import matplotlib.pyplot as plt\n",
        "import numpy as np\n",
        "\n",
        "xmin = -10\n",
        "xmax = 10\n",
        "ymin = - 10\n",
        "ymax = 10\n",
        "points = 4*(xmax-xmin)\n",
        "x = np.linspace(xmin,xmax,points)\n",
        "\n",
        "fig, ax = plt.subplots()\n",
        "plt.axis([xmin,xmax,ymin,ymax]) # window size\n",
        "plt.plot([xmin,xmax],[0,0],'b') # blue x axis\n",
        "plt.plot([0,0],[ymin,ymax], 'b') # blue y axis\n",
        "\n",
        "# plt.plot(x, x**3)\n",
        "plt.plot(x, x**3 - 2*x**2 - 3*x + 4)\n",
        "plt.show()\n"
      ],
      "metadata": {
        "colab": {
          "base_uri": "https://localhost:8080/",
          "height": 269
        },
        "id": "jjoI-zDw5OxD",
        "outputId": "f6e75eb7-f82f-48dc-ac2b-4c65514268b6"
      },
      "execution_count": null,
      "outputs": [
        {
          "output_type": "display_data",
          "data": {
            "text/plain": [
              "<Figure size 432x288 with 1 Axes>"
            ],
            "image/png": "[encoded data removed]"
          },
          "metadata": {
            "needs_background": "light"
          }
        }
      ]
    },
    {
      "cell_type": "markdown",
      "source": [
        "Quartic graphs<br>\n",
        "四次函数图\n",
        "y = x<sup>4</sup>"
      ],
      "metadata": {
        "id": "oVmEKq0Q6Anb"
      }
    },
    {
      "cell_type": "code",
      "source": [
        "import matplotlib.pyplot as plt\n",
        "import numpy as np\n",
        "\n",
        "xmin = -10\n",
        "xmax = 10\n",
        "ymin = - 10\n",
        "ymax = 10\n",
        "points = 4*(xmax-xmin)\n",
        "x = np.linspace(xmin,xmax,points)\n",
        "\n",
        "fig, ax = plt.subplots()\n",
        "plt.axis([xmin,xmax,ymin,ymax]) # window size\n",
        "plt.plot([xmin,xmax],[0,0],'b') # blue x axis\n",
        "plt.plot([0,0],[ymin,ymax], 'b') # blue y axis\n",
        "\n",
        "plt.plot(x, x**4)\n",
        "plt.show()\n"
      ],
      "metadata": {
        "colab": {
          "base_uri": "https://localhost:8080/",
          "height": 269
        },
        "id": "hKlDc7ws5llr",
        "outputId": "6e5a7093-590b-4378-a413-9907341441c6"
      },
      "execution_count": null,
      "outputs": [
        {
          "output_type": "display_data",
          "data": {
            "text/plain": [
              "<Figure size 432x288 with 1 Axes>"
            ],
            "image/png": "[encoded data removed]"
          },
          "metadata": {
            "needs_background": "light"
          }
        }
      ]
    },
    {
      "cell_type": "markdown",
      "source": [
        "Quintic graphs<br>\n",
        "五次函数图像\n",
        "y = x<sup>5</sup>"
      ],
      "metadata": {
        "id": "DZpWIkDL6DRK"
      }
    },
    {
      "cell_type": "code",
      "source": [
        "import matplotlib.pyplot as plt\n",
        "import numpy as np\n",
        "\n",
        "xmin = -10\n",
        "xmax = 10\n",
        "ymin = - 10\n",
        "ymax = 10\n",
        "points = 4*(xmax-xmin)\n",
        "x = np.linspace(xmin,xmax,points)\n",
        "\n",
        "fig, ax = plt.subplots()\n",
        "plt.axis([xmin,xmax,ymin,ymax]) # window size\n",
        "plt.plot([xmin,xmax],[0,0],'b') # blue x axis\n",
        "plt.plot([0,0],[ymin,ymax], 'b') # blue y axis\n",
        "\n",
        "plt.plot(x, x**5)\n",
        "plt.show()\n"
      ],
      "metadata": {
        "colab": {
          "base_uri": "https://localhost:8080/",
          "height": 269
        },
        "id": "W-hw1lOp5qPa",
        "outputId": "4de986c9-e1da-4c34-fcb0-92a479801664"
      },
      "execution_count": null,
      "outputs": [
        {
          "output_type": "display_data",
          "data": {
            "text/plain": [
              "<Figure size 432x288 with 1 Axes>"
            ],
            "image/png": "[encoded data removed]"
          },
          "metadata": {
            "needs_background": "light"
          }
        }
      ]
    },
    {
      "cell_type": "markdown",
      "source": [
        "Absolute value graphs<br>\n",
        "绝对值函数图像\n",
        "y = |x|"
      ],
      "metadata": {
        "id": "i0zFf9mfG2Gj"
      }
    },
    {
      "cell_type": "code",
      "source": [
        "import matplotlib.pyplot as plt\n",
        "import numpy as np\n",
        "\n",
        "xmin = -10\n",
        "xmax = 10\n",
        "ymin = - 10\n",
        "ymax = 10\n",
        "points = 4*(xmax-xmin)\n",
        "x = np.linspace(xmin,xmax,points)\n",
        "\n",
        "fig, ax = plt.subplots()\n",
        "plt.axis([xmin,xmax,ymin,ymax]) # window size\n",
        "plt.plot([xmin,xmax],[0,0],'b') # blue x axis\n",
        "plt.plot([0,0],[ymin,ymax], 'b') # blue y axis\n",
        "\n",
        "plt.plot(x, abs(x))\n",
        "plt.show()\n"
      ],
      "metadata": {
        "colab": {
          "base_uri": "https://localhost:8080/",
          "height": 269
        },
        "id": "IHyaQgvUG4i7",
        "outputId": "43a8ddf6-0feb-4589-fc24-b482433c4907"
      },
      "execution_count": null,
      "outputs": [
        {
          "output_type": "display_data",
          "data": {
            "text/plain": [
              "<Figure size 432x288 with 1 Axes>"
            ],
            "image/png": "[encoded data removed]"
          },
          "metadata": {
            "needs_background": "light"
          }
        }
      ]
    },
    {
      "cell_type": "markdown",
      "source": [
        "Square root graphs<br>\n",
        "平方根函数图像\n",
        "y = $\\sqrt{x}$"
      ],
      "metadata": {
        "id": "XWFw3g9QQGaA"
      }
    },
    {
      "cell_type": "code",
      "source": [
        "import matplotlib.pyplot as plt\n",
        "import numpy as np\n",
        "\n",
        "xmin = -10\n",
        "xmax = 10\n",
        "ymin = - 10\n",
        "ymax = 10\n",
        "points = 4*(xmax-xmin)\n",
        "x = np.linspace(0,xmax,points) #\n",
        "\n",
        "fig, ax = plt.subplots()\n",
        "plt.axis([xmin,xmax,ymin,ymax]) # window size\n",
        "plt.plot([xmin,xmax],[0,0],'b') # blue x axis\n",
        "plt.plot([0,0],[ymin,ymax], 'b') # blue y axis\n",
        "\n",
        "plt.plot(x, np.sqrt(x))\n",
        "# plt.plot(x, -np.sqrt(x))\n",
        "\n",
        "plt.show()\n"
      ],
      "metadata": {
        "colab": {
          "base_uri": "https://localhost:8080/",
          "height": 269
        },
        "id": "gXBQB_aWIB9x",
        "outputId": "76c95489-12c8-4bf8-a91c-cabf49c8673a"
      },
      "execution_count": null,
      "outputs": [
        {
          "output_type": "display_data",
          "data": {
            "text/plain": [
              "<Figure size 432x288 with 1 Axes>"
            ],
            "image/png": "[encoded data removed]"
          },
          "metadata": {
            "needs_background": "light"
          }
        }
      ]
    },
    {
      "cell_type": "markdown",
      "source": [
        "Square root with rational exponent<br>\n",
        "平方根（有理指数）\n",
        "y = x<sup>1/2</sup>"
      ],
      "metadata": {
        "id": "54MrPE3eQ7kO"
      }
    },
    {
      "cell_type": "code",
      "source": [
        "import matplotlib.pyplot as plt\n",
        "import numpy as np\n",
        "\n",
        "xmin = -10\n",
        "xmax = 10\n",
        "ymin = - 10\n",
        "ymax = 10\n",
        "points = 4*(xmax-xmin)\n",
        "x = np.linspace(0,xmax,points)\n",
        "\n",
        "fig, ax = plt.subplots()\n",
        "plt.axis([xmin,xmax,ymin,ymax]) # window size\n",
        "plt.plot([xmin,xmax],[0,0],'b') # blue x axis\n",
        "plt.plot([0,0],[ymin,ymax], 'b') # blue y axis\n",
        "\n",
        "plt.plot(x, x**(1/2))\n",
        "\n",
        "plt.show()\n"
      ],
      "metadata": {
        "colab": {
          "base_uri": "https://localhost:8080/",
          "height": 269
        },
        "id": "ShKyjDb2IR3Q",
        "outputId": "d4145a4e-a3cf-4528-d832-211791de0ab0"
      },
      "execution_count": null,
      "outputs": [
        {
          "output_type": "display_data",
          "data": {
            "text/plain": [
              "<Figure size 432x288 with 1 Axes>"
            ],
            "image/png": "[encoded data removed]"
          },
          "metadata": {
            "needs_background": "light"
          }
        }
      ]
    },
    {
      "cell_type": "markdown",
      "source": [
        "Cube root of x<br>\n",
        "x 的立方根\n",
        "y = x<sup>1/3</sup>"
      ],
      "metadata": {
        "id": "yliZ_sqL3F0p"
      }
    },
    {
      "cell_type": "code",
      "source": [
        "import matplotlib.pyplot as plt\n",
        "import numpy as np\n",
        "\n",
        "\n",
        "xmin = -10\n",
        "xmax = 10\n",
        "ymin = - 10\n",
        "ymax = 10\n",
        "points = 4*(xmax-xmin)\n",
        "x = np.linspace(xmin,xmax,points) #\n",
        "\n",
        "fig, ax = plt.subplots()\n",
        "plt.axis([xmin,xmax,ymin,ymax]) # window size\n",
        "plt.plot([xmin,xmax],[0,0],'b') # blue x axis\n",
        "plt.plot([0,0],[ymin,ymax], 'b') # blue y axis\n",
        "\n",
        "plt.plot(x, np.cbrt(x))\n",
        "\n",
        "\n",
        "plt.show()\n"
      ],
      "metadata": {
        "colab": {
          "base_uri": "https://localhost:8080/",
          "height": 269
        },
        "id": "eRt9WQ4KJo9Y",
        "outputId": "fc389e6b-1499-42cf-841c-eb9064047acf"
      },
      "execution_count": null,
      "outputs": [
        {
          "output_type": "display_data",
          "data": {
            "text/plain": [
              "<Figure size 432x288 with 1 Axes>"
            ],
            "image/png": "[encoded data removed]"
          },
          "metadata": {
            "needs_background": "light"
          }
        }
      ]
    },
    {
      "cell_type": "markdown",
      "source": [
        "Floor function<br>\n",
        "  地板函数\n",
        "y = $\\lfloor x \\rfloor$"
      ],
      "metadata": {
        "id": "4qwivDVT3gB6"
      }
    },
    {
      "cell_type": "code",
      "source": [
        "import matplotlib.pyplot as plt\n",
        "import numpy as np\n",
        "import math\n",
        "\n",
        "\n",
        "xmin = -10\n",
        "xmax = 10\n",
        "ymin = -10\n",
        "ymax = 10\n",
        "points = 4*(xmax-xmin)\n",
        "# x = np.linspace(xmin,xmax,points) #\n",
        "\n",
        "\n",
        "fig, ax = plt.subplots()\n",
        "plt.axis([xmin,xmax,ymin,ymax]) # window size\n",
        "plt.plot([xmin,xmax],[0,0],'b') # blue x axis\n",
        "plt.plot([0,0],[ymin,ymax], 'b') # blue y axis\n",
        "\n",
        "plt.plot(x, np.floor(x))\n",
        "#for x in range(points):\n",
        " #   plt.plot([0.25*x - 10],[math.floor(0.25*x)-10], 'ro')\n",
        "\n",
        "plt.show()\n"
      ],
      "metadata": {
        "id": "I3a2C4ShJ3oG",
        "colab": {
          "base_uri": "https://localhost:8080/",
          "height": 269
        },
        "outputId": "a84feb8c-d1e7-4716-d984-305f69f9f5f4"
      },
      "execution_count": null,
      "outputs": [
        {
          "output_type": "display_data",
          "data": {
            "text/plain": [
              "<Figure size 432x288 with 1 Axes>"
            ],
            "image/png": "[encoded data removed]"
          },
          "metadata": {
            "needs_background": "light"
          }
        }
      ]
    },
    {
      "cell_type": "markdown",
      "source": [
        "Exponential functions<br>\n",
        "指数函数\n",
        "y = 2<sup>x</sup>"
      ],
      "metadata": {
        "id": "unIXW-5U8K5a"
      }
    },
    {
      "cell_type": "code",
      "source": [
        "import matplotlib.pyplot as plt\n",
        "import numpy as np\n",
        "\n",
        "\n",
        "xmin = -10\n",
        "xmax = 10\n",
        "ymin = -10\n",
        "ymax = 10\n",
        "points = 3*(xmax-xmin)\n",
        "x = np.linspace(xmin,xmax,points) #\n",
        "\n",
        "\n",
        "fig, ax = plt.subplots()\n",
        "plt.axis([xmin,xmax,ymin,ymax]) # window size\n",
        "plt.plot([xmin,xmax],[0,0],'b') # blue x axis\n",
        "plt.plot([0,0],[ymin,ymax], 'b') # blue y axis\n",
        "\n",
        "plt.plot(x, 2**x)\n",
        "\n",
        "\n",
        "plt.show()\n"
      ],
      "metadata": {
        "colab": {
          "base_uri": "https://localhost:8080/",
          "height": 269
        },
        "id": "7m3FGsonL8M9",
        "outputId": "0c1b33e3-63e0-4768-cf0c-c0f630e51237"
      },
      "execution_count": null,
      "outputs": [
        {
          "output_type": "display_data",
          "data": {
            "text/plain": [
              "<Figure size 432x288 with 1 Axes>"
            ],
            "image/png": "[encoded data removed]"
          },
          "metadata": {
            "needs_background": "light"
          }
        }
      ]
    },
    {
      "cell_type": "code",
      "source": [],
      "metadata": {
        "id": "zex2ceCX086v"
      },
      "execution_count": null,
      "outputs": []
    },
    {
      "cell_type": "markdown",
      "source": [
        "# Sliders\n",
        "滑动条"
      ],
      "metadata": {
        "id": "hRUlUdlKmqiU"
      }
    },
    {
      "cell_type": "code",
      "source": [
        "# sliders and zoom\n",
        "# y = a\n",
        "\n",
        "%matplotlib inline\n",
        "from ipywidgets import interactive\n",
        "import matplotlib.pyplot as plt\n",
        "import numpy as np\n",
        "\n",
        "# Define the graphing function\n",
        "def f(a, zoom):\n",
        "    xmin = -zoom\n",
        "    xmax = zoom\n",
        "    ymin = -zoom\n",
        "    ymax = zoom\n",
        "    points = 10*xmax-xmin\n",
        "    x = np.linspace(xmin, xmax, points)\n",
        "\n",
        "    plt.axis([xmin,xmax,ymin,ymax]) # window size\n",
        "    plt.plot([xmin,xmax],[0,0],'black') # black x axis\n",
        "    plt.plot([0,0],[ymin,ymax], 'black') # black y axis\n",
        "\n",
        "    # Line 1\n",
        "    y1 = a\n",
        "    y2 = a\n",
        "    plt.plot([xmin,xmax], [y1,y2])\n",
        "    plt.show()\n",
        "\n",
        "# Set up the sliders\n",
        "interactive_plot = interactive(f, a=(-9, 9), zoom=(1,100))\n",
        "interactive_plot\n",
        "\n"
      ],
      "metadata": {
        "id": "7md5F1f6l5np",
        "colab": {
          "base_uri": "https://localhost:8080/",
          "height": 329,
          "referenced_widgets": [
            "09f32edf9b4948ce89f9ce53a7f2c443",
            "dfedb5ba357042aeb0ecc4a8f128d9eb",
            "e3334747ba4f45d5bfa4015158fd76c8",
            "d6f50e2f2de64b6bb771bc5062a82cac",
            "85dd9a8872544a05bec40c899181f1a9",
            "68ba986b7a3b4ebd91f52ece706b730e",
            "29561966c5084563b8f9d25a11b9cabf",
            "64b6f6bad70842cf8279622c47ef10d6",
            "43a35b76902c4ab9874be39229c3ca54",
            "9f35162417df4bad982f2b38c540974c"
          ]
        },
        "outputId": "479ca594-bef2-4dbe-824a-ac53fbef64c3"
      },
      "execution_count": null,
      "outputs": [
        {
          "output_type": "display_data",
          "data": {
            "text/plain": [
              "interactive(children=(IntSlider(value=0, description='a', max=9, min=-9), IntSlider(value=50, description='zoo…"
            ],
            "application/vnd.jupyter.widget-view+json": {
              "version_major": 2,
              "version_minor": 0,
              "model_id": "09f32edf9b4948ce89f9ce53a7f2c443"
            }
          },
          "metadata": {}
        }
      ]
    },
    {
      "cell_type": "code",
      "source": [
        "# sliders and zoom\n",
        "# y = mx + b\n",
        "\n",
        "%matplotlib inline\n",
        "from ipywidgets import interactive\n",
        "import matplotlib.pyplot as plt\n",
        "import numpy as np\n",
        "\n",
        "# Define the graphing function\n",
        "def f(m,b,zoom):\n",
        "    xmin = -zoom\n",
        "    xmax = zoom\n",
        "    ymin = -zoom\n",
        "    ymax = zoom\n",
        "    points = 10*xmax-xmin\n",
        "    x = np.linspace(xmin, xmax, points)\n",
        "\n",
        "    plt.axis([xmin,xmax,ymin,ymax]) # window size\n",
        "    plt.plot([xmin,xmax],[0,0],'black') # black x axis\n",
        "    plt.plot([0,0],[ymin,ymax], 'black') # black y axis\n",
        "\n",
        "    # Line 1\n",
        "    y1 = m*x + b\n",
        "    plt.plot(x, y1)\n",
        "    plt.show()\n",
        "\n",
        "# Set up the sliders\n",
        "interactive_plot = interactive(f, m=(-9, 9), b=(-9, 9), zoom=(1,100))\n",
        "interactive_plot\n"
      ],
      "metadata": {
        "id": "fUepYbuynUne",
        "colab": {
          "base_uri": "https://localhost:8080/",
          "height": 361,
          "referenced_widgets": [
            "2428ad3a628c4322bc402d724cece3b4",
            "32211d1c712549d6a5bb2f57082e8674",
            "1e2d13d180b54009bbb0289d88963f09",
            "9ef53edd9ee64fae8b2ed8c0817717c7",
            "b295ab5a23814040af203d9b9fa5725f",
            "72688dafb3364a0fb8c1b051dd5664c6",
            "819d4e36c5ba49d4b71853cacf103d91",
            "3df50ad193ac4af39f7bcf70c1beaee3",
            "943bb1a93acf4c38a10a2533d0a028fd",
            "cea1426aa1ce4b8190c94a2f878c3957",
            "62cf112e2b3f4acaa21e4cd0d79440e2",
            "a135bf6e6ae84400be50f0ad2ddd9c7a",
            "a3b7a213316a40759075620f8736efd9"
          ]
        },
        "outputId": "50b19031-be72-4bf9-d383-2e477a5c6de2"
      },
      "execution_count": null,
      "outputs": [
        {
          "output_type": "display_data",
          "data": {
            "text/plain": [
              "interactive(children=(IntSlider(value=0, description='m', max=9, min=-9), IntSlider(value=0, description='b', …"
            ],
            "application/vnd.jupyter.widget-view+json": {
              "version_major": 2,
              "version_minor": 0,
              "model_id": "2428ad3a628c4322bc402d724cece3b4"
            }
          },
          "metadata": {}
        }
      ]
    },
    {
      "cell_type": "code",
      "source": [
        "# sliders and zoom\n",
        "# y = ax**2 + bx + c\n",
        "\n",
        "%matplotlib inline\n",
        "from ipywidgets import interactive\n",
        "import matplotlib.pyplot as plt\n",
        "import numpy as np\n",
        "\n",
        "# Define the graphing function\n",
        "def f(a,b,c,zoom):\n",
        "    xmin = -zoom\n",
        "    xmax = zoom\n",
        "    ymin = -zoom\n",
        "    ymax = zoom\n",
        "    points = 10*xmax-xmin\n",
        "    x = np.linspace(xmin, xmax, points)\n",
        "\n",
        "    plt.axis([xmin,xmax,ymin,ymax]) # window size\n",
        "    plt.plot([xmin,xmax],[0,0],'black') # black x axis\n",
        "    plt.plot([0,0],[ymin,ymax], 'black') # black y axis\n",
        "\n",
        "    # Line 1\n",
        "    y1 = a*x**2 + b*x + c\n",
        "    plt.plot(x, y1)\n",
        "    plt.show()\n",
        "\n",
        "# Set up the sliders\n",
        "interactive_plot = interactive(f, a=(-9, 9),b=(-9, 9),c=(-9, 9),zoom=(1,100))\n",
        "interactive_plot\n"
      ],
      "metadata": {
        "colab": {
          "base_uri": "https://localhost:8080/",
          "height": 393,
          "referenced_widgets": [
            "78e8c734ca3e46d8a902ef6c64392213",
            "8e8823fd237a429c8af92e235a346042",
            "4dc44f12219b4757aae09cd0c8a796c8",
            "6726ca3e8dc445a5b2b419f2bf76a8c9",
            "92de523d8db341508d298fa29e8099df",
            "6f7c0d2d809848369dbe98bb299a6f2b",
            "ee0ffbf7f3ea4548aeb6c7c2498d8f6c",
            "bca5c72ee0e84bcf8216fcbc00922aac",
            "6b6b6fe6c5eb4147b60a4b7f39a654d8",
            "93fd895a1bab4cb2845569b490ae4575",
            "dc7480432e614fdda01b02b7beba084c",
            "9136f6dae8a74adfb1475ebdd39f55bd",
            "8f6896025504422dac6a7cbe5faf0741",
            "080c31c1d0954c9289409345399f683c",
            "79bc5837547b4822b22b574c07474c1e",
            "10cfb7be2ff841a3877e0bf8978e0be2"
          ]
        },
        "id": "u25ujb5Unv4C",
        "outputId": "b9542e9a-d349-4f7b-d42d-61c4e6fe98ee"
      },
      "execution_count": null,
      "outputs": [
        {
          "output_type": "display_data",
          "data": {
            "text/plain": [
              "interactive(children=(IntSlider(value=0, description='a', max=9, min=-9), IntSlider(value=0, description='b', …"
            ],
            "application/vnd.jupyter.widget-view+json": {
              "version_major": 2,
              "version_minor": 0,
              "model_id": "78e8c734ca3e46d8a902ef6c64392213"
            }
          },
          "metadata": {}
        }
      ]
    },
    {
      "cell_type": "code",
      "source": [
        "# sliders and zoom\n",
        "# y = abs(x)\n",
        "\n",
        "%matplotlib inline\n",
        "from ipywidgets import interactive\n",
        "import matplotlib.pyplot as plt\n",
        "import numpy as np\n",
        "\n",
        "# Define the graphing function\n",
        "def f(a,b,c,zoom):\n",
        "    xmin = -zoom\n",
        "    xmax = zoom\n",
        "    ymin = -zoom\n",
        "    ymax = zoom\n",
        "    points = 10*xmax-xmin\n",
        "    x = np.linspace(xmin, xmax, points)\n",
        "\n",
        "    plt.axis([xmin,xmax,ymin,ymax]) # window size\n",
        "    plt.plot([xmin,xmax],[0,0],'black') # black x axis\n",
        "    plt.plot([0,0],[ymin,ymax], 'black') # black y axis\n",
        "\n",
        "    # Line 1\n",
        "    y1 = a*abs(x-b) + c\n",
        "    plt.plot(x, y1)\n",
        "    plt.show()\n",
        "\n",
        "# Set up the sliders\n",
        "interactive_plot = interactive(f, a=(-9, 9),b=(-9, 9),c=(-9, 9),zoom=(1,100))\n",
        "interactive_plot"
      ],
      "metadata": {
        "colab": {
          "base_uri": "https://localhost:8080/",
          "height": 393,
          "referenced_widgets": [
            "c2164cdcaa77433d98292b766f7689ba",
            "c382ec39d4e14fca9df2cc360a123128",
            "73c1ba20fa714a42bcb62bd0a25a1caf",
            "80f95a65fd764356b88fcf46071fe6f0",
            "39b199a06ee04706bf40a268b154d1ae",
            "02c8468bceea4dcd8d9a76ebe5d97d5a",
            "445c36050d1346c5a61d825eb0a80a8e",
            "3030e2b1cf124399b5b6f0149f59c619",
            "3d847a3afe7b406aba3306703f263cb7",
            "03302a4fac664883a3f0429c18bd6972",
            "c03b1de66207430c9be307a3795553dd",
            "a2fe8fbc02ff461798dcee63495c8bc1",
            "39a2219347e3464da01d8e936eabd798",
            "e8bc16c7d23a4a2d9d8606d1c2203c07",
            "43694dfd14af44379b7ac670c42850c7",
            "0ac6796ce4474beab8a9e29775faefa1"
          ]
        },
        "id": "LNhpZ-BqodEZ",
        "outputId": "ceb5dee9-bc07-4089-aa14-5bb223951db9"
      },
      "execution_count": null,
      "outputs": [
        {
          "output_type": "display_data",
          "data": {
            "text/plain": [
              "interactive(children=(IntSlider(value=0, description='a', max=9, min=-9), IntSlider(value=0, description='b', …"
            ],
            "application/vnd.jupyter.widget-view+json": {
              "version_major": 2,
              "version_minor": 0,
              "model_id": "c2164cdcaa77433d98292b766f7689ba"
            }
          },
          "metadata": {}
        }
      ]
    },
    {
      "cell_type": "code",
      "source": [
        "# sliders and zoom\n",
        "# y = sqrt(x)\n",
        "\n",
        "%matplotlib inline\n",
        "from ipywidgets import interactive\n",
        "import matplotlib.pyplot as plt\n",
        "import numpy as np\n",
        "\n",
        "# Define the graphing function\n",
        "def f(a,b,c,zoom):\n",
        "    xmin = -zoom\n",
        "    xmax = zoom\n",
        "    ymin = -zoom\n",
        "    ymax = zoom\n",
        "    points = 10*xmax-xmin\n",
        "    x = np.linspace(xmin, xmax, points)\n",
        "\n",
        "    plt.axis([xmin,xmax,ymin,ymax]) # window size\n",
        "    plt.plot([xmin,xmax],[0,0],'black') # black x axis\n",
        "    plt.plot([0,0],[ymin,ymax], 'black') # black y axis\n",
        "\n",
        "    # Line 1\n",
        "    y1 = a*np.sqrt(x-b) + c\n",
        "    plt.plot(x, y1)\n",
        "    plt.show()\n",
        "\n",
        "# Set up the sliders\n",
        "interactive_plot = interactive(f, a=(-9, 9),b=(-9, 9),c=(-9, 9),zoom=(1,100))\n",
        "interactive_plot"
      ],
      "metadata": {
        "colab": {
          "base_uri": "https://localhost:8080/",
          "height": 428,
          "referenced_widgets": [
            "48b4d34e2a47407a94cee7978b96cc3d",
            "cfd811a6c9c24a3d9f7d96834ae23138",
            "a4b4dd15c87843f4a624c54e6f9ae5d7",
            "6f7fbcba0ec349198f7ddc71cc4d6855",
            "103923313f9947dbacc6247149317fb5",
            "f2b59e8770c7465eaf003ad9bc21b69d",
            "9800540ad6394413bcad0120ef3a97eb",
            "6fbb254a7eb9465ea54136f1e2cbb3e0",
            "f22901c6dcb845fabbe58b5ae68e91bf",
            "739c316355fd4e02aee64fb78c7ab0c6",
            "51f8155a35034c689ecc2505dafa5c7b",
            "075725d3f24842ef8005f173400cb6c9",
            "7a6d934ff12d42feacedf6430ef982b1",
            "e9d005ef14734931a7e22b990a508b80",
            "35f27d954e4d41e984b25f591db3ed0f",
            "413fd99e8079412eaa037e190316cafa"
          ]
        },
        "id": "x7laAZ1NofH1",
        "outputId": "790494d2-f6b7-4906-c4ab-7930621082ef"
      },
      "execution_count": null,
      "outputs": [
        {
          "output_type": "display_data",
          "data": {
            "text/plain": [
              "interactive(children=(IntSlider(value=0, description='a', max=9, min=-9), IntSlider(value=0, description='b', …"
            ],
            "application/vnd.jupyter.widget-view+json": {
              "version_major": 2,
              "version_minor": 0,
              "model_id": "48b4d34e2a47407a94cee7978b96cc3d"
            }
          },
          "metadata": {}
        }
      ]
    },
    {
      "cell_type": "code",
      "source": [
        "# sliders and zoom\n",
        "# y = x**3 + ...\n",
        "\n",
        "%matplotlib inline\n",
        "from ipywidgets import interactive\n",
        "import matplotlib.pyplot as plt\n",
        "import numpy as np\n",
        "\n",
        "# Define the graphing function\n",
        "def f(a,b,c,d,zoom):\n",
        "    xmin = -zoom\n",
        "    xmax = zoom\n",
        "    ymin = -zoom\n",
        "    ymax = zoom\n",
        "    points = 10*xmax-xmin\n",
        "    x = np.linspace(xmin, xmax, points)\n",
        "\n",
        "    plt.axis([xmin,xmax,ymin,ymax]) # window size\n",
        "    plt.plot([xmin,xmax],[0,0],'black') # black x axis\n",
        "    plt.plot([0,0],[ymin,ymax], 'black') # black y axis\n",
        "\n",
        "    # Line 1\n",
        "    y1 = a*x**3 + b*x**2 + c*x + d\n",
        "    plt.plot(x, y1)\n",
        "    plt.show()\n",
        "\n",
        "# Set up the sliders\n",
        "i_plot = interactive(f, a=(-9, 9),b=(-9, 9),c=(-9, 9),d=(-9, 9),zoom=(1,100))\n",
        "i_plot"
      ],
      "metadata": {
        "colab": {
          "base_uri": "https://localhost:8080/",
          "height": 425,
          "referenced_widgets": [
            "41703c943ef64df7a056d20554e6df2f",
            "c390dd303216436c9d3589c942d786bb",
            "ca0d434cfa7b45cba9a0fbfbdc7c0d6f",
            "cd77b30e97e44f6983efb9434a35d7b5",
            "d33645a70c7741bf8dd2dff0cf3f1c20",
            "3b22de4c48024a6383d71023c89cfbea",
            "3758c6b710e2426981711e000fc82eda",
            "787c200369e8433ebedf00d06a9b90e8",
            "d9ece9dca85c4781b4a1d0c6aff397cb",
            "0560a969ed544ea7bbdf41a38cfa2144",
            "2e90b0d59958461bb2f1fa49d136ca5f",
            "cb28ac49afa44769badd6095b0ed97ed",
            "0a0e1d9fb50046549bffa8edcecea558",
            "e7c3ee0ff5794afb9606306f802ac3b5",
            "f00cde865d4a472294ca4f8a6b170314",
            "d4e2f0b4938d429eb548e77fea9cd9b9",
            "7651ec66cd33440dbdb847b6ce4b3ce5",
            "442e0d1395e84576b63af4a2c8973f33",
            "4e160bdd486c4d2bb19c9294f58933a4"
          ]
        },
        "id": "VREcrPmMrGQa",
        "outputId": "f88b3c4b-cfc2-4611-af5a-23ac42bebbd4"
      },
      "execution_count": null,
      "outputs": [
        {
          "output_type": "display_data",
          "data": {
            "text/plain": [
              "interactive(children=(IntSlider(value=0, description='a', max=9, min=-9), IntSlider(value=0, description='b', …"
            ],
            "application/vnd.jupyter.widget-view+json": {
              "version_major": 2,
              "version_minor": 0,
              "model_id": "41703c943ef64df7a056d20554e6df2f"
            }
          },
          "metadata": {}
        }
      ]
    },
    {
      "cell_type": "code",
      "source": [
        "# sliders and zoom\n",
        "# y = x**4 + ...\n",
        "\n",
        "%matplotlib inline\n",
        "from ipywidgets import interactive\n",
        "import matplotlib.pyplot as plt\n",
        "import numpy as np\n",
        "\n",
        "# Define the graphing function\n",
        "def f(a,b,c,d,e,zoom):\n",
        "    xmin = -zoom\n",
        "    xmax = zoom\n",
        "    ymin = -zoom\n",
        "    ymax = zoom\n",
        "    points = 10*xmax-xmin\n",
        "    x = np.linspace(xmin, xmax, points)\n",
        "\n",
        "    plt.axis([xmin,xmax,ymin,ymax]) # window size\n",
        "    plt.plot([xmin,xmax],[0,0],'black') # black x axis\n",
        "    plt.plot([0,0],[ymin,ymax], 'black') # black y axis\n",
        "\n",
        "    # Line 1\n",
        "    y1 = a*x**4 + b*x**3 + c*x**2 + d*x + e\n",
        "    plt.plot(x, y1)\n",
        "    plt.show()\n",
        "\n",
        "# Set up the sliders\n",
        "i_plot=interactive(f,a=(-9,9),b=(-9,9),c=(-9,9),d=(-9,9),e=(-9,9),zoom=(1,100))\n",
        "i_plot"
      ],
      "metadata": {
        "colab": {
          "base_uri": "https://localhost:8080/",
          "height": 461,
          "referenced_widgets": [
            "ebcdb0eb96bd4cb2bfdefd9a5f2d7ad5",
            "2d3f0a4d4c24435b9d02fb2665d3f6c0",
            "02fd30ace6944fe09ca2fc455f8d7071",
            "9692f09a60b54b9899fdad8f3896c93d",
            "7d726c6731d94450bff99665b7e5921e",
            "7a36c92f69b445a1aa91465ed96f3929",
            "7d41c09516744cc8b4c1d2c9b3c81f43",
            "b7c4e56e74b24720815189ab821aa2fe",
            "db8c601733f14c57a4b60e2f0f79ec7f",
            "f0834b4a203d4fe19a5064d5fc730f9f",
            "4d221875e59f46b89ffe04749d8bbec3",
            "476c4be0a9114fbb91c96f1ce5ff5730",
            "550c196198894440a9cab245b74522be",
            "c8c4fce4d325407c83d4d9bd6fa81baf",
            "765eacd503e240599e37066234bf03c2",
            "bbb5b7be788646ab9b98b1bebf597c0d",
            "bb787080d4c5431190704c24d0b863db",
            "05bda33a86d9402e803f01c3b0758db2",
            "bec3c83d7f094a2098fa7047dcbd1d68",
            "74208f4e32fa4b5087ecd9fe35509e88",
            "196cd5f39ec244b3b24091474436afbc",
            "e79c47d487cb424ebe382f66bdd4de93"
          ]
        },
        "outputId": "95091b61-c34c-40f6-c7c4-42214c18c833",
        "id": "po6m3x3usQkY"
      },
      "execution_count": null,
      "outputs": [
        {
          "output_type": "display_data",
          "data": {
            "text/plain": [
              "interactive(children=(IntSlider(value=0, description='a', max=9, min=-9), IntSlider(value=0, description='b', …"
            ],
            "application/vnd.jupyter.widget-view+json": {
              "version_major": 2,
              "version_minor": 0,
              "model_id": "ebcdb0eb96bd4cb2bfdefd9a5f2d7ad5"
            }
          },
          "metadata": {}
        }
      ]
    },
    {
      "cell_type": "code",
      "source": [],
      "metadata": {
        "id": "4Fvcpzk4vXDC"
      },
      "execution_count": null,
      "outputs": []
    },
    {
      "cell_type": "code",
      "source": [
        "# sliders and zoom\n",
        "# y = np.floor(x)\n",
        "\n",
        "%matplotlib inline\n",
        "from ipywidgets import interactive\n",
        "import matplotlib.pyplot as plt\n",
        "import numpy as np\n",
        "\n",
        "# Define the graphing function\n",
        "def f(a,b,c,zoom):\n",
        "    xmin = -zoom\n",
        "    xmax = zoom\n",
        "    ymin = -zoom\n",
        "    ymax = zoom\n",
        "    points = 10*xmax-xmin\n",
        "    x = np.linspace(xmin, xmax, points)\n",
        "\n",
        "    plt.axis([xmin,xmax,ymin,ymax]) # window size\n",
        "    plt.plot([xmin,xmax],[0,0],'black') # black x axis\n",
        "    plt.plot([0,0],[ymin,ymax], 'black') # black y axis\n",
        "\n",
        "    # Line 1\n",
        "    y1 = a*np.floor(x-b) + c\n",
        "    plt.plot(x, y1, 'ro')\n",
        "    plt.show()\n",
        "\n",
        "# Set up the sliders\n",
        "i_plot=interactive(f,a=(-9,9),b=(-9,9),c=(-9,9),zoom=(1,100))\n",
        "i_plot"
      ],
      "metadata": {
        "colab": {
          "base_uri": "https://localhost:8080/",
          "height": 397,
          "referenced_widgets": [
            "dbfa04ac7a284ea7ba17a3bdd0884e64",
            "c65f06b08d304cbb88125114894909bc",
            "631699b7f4bb4a68b0ef390c0c2a8c81",
            "8f588feaeb9846fe9e41bf3806403f68",
            "b23b30b4d6ad46038dc9fd3e68b459d8",
            "bb8f73e062484f2d8b414ef634fcdfae",
            "11e456c1814248ac96631cb1ef690ddd",
            "87f166a052d54382a1927e3aa0349981",
            "d5009d58d13b436c9611c9c51318dcff",
            "193693976af242d3aff9e6ea5b9cc69e",
            "07b29234e8d346a6b1b5b0e5568dea3f",
            "755753daf5a34b76823ee2cb1be0a4b8",
            "8c55a5b74b8c4cf2a0b5ec0b675990df",
            "43eba837fbe742fbb66144b5e9e9c7b6",
            "5570ef1b2a0046cca4a034fbb08caa7f",
            "2f31bcd4b6f44b20a3660b0b1cebf0d0"
          ]
        },
        "outputId": "dd7c0165-c29c-4823-fb13-31bd68aa0c7f",
        "id": "MtcW-4d_vYR9"
      },
      "execution_count": null,
      "outputs": [
        {
          "output_type": "display_data",
          "data": {
            "text/plain": [
              "interactive(children=(IntSlider(value=0, description='a', max=9, min=-9), IntSlider(value=0, description='b', …"
            ],
            "application/vnd.jupyter.widget-view+json": {
              "version_major": 2,
              "version_minor": 0,
              "model_id": "dbfa04ac7a284ea7ba17a3bdd0884e64"
            }
          },
          "metadata": {}
        }
      ]
    },
    {
      "cell_type": "code",
      "source": [],
      "metadata": {
        "id": "K6OJ7FU9woiw"
      },
      "execution_count": null,
      "outputs": []
    },
    {
      "cell_type": "code",
      "source": [
        "# sliders and zoom\n",
        "# y = a*b**(cx-d) + e\n",
        "\n",
        "%matplotlib inline\n",
        "from ipywidgets import interactive\n",
        "import matplotlib.pyplot as plt\n",
        "import numpy as np\n",
        "\n",
        "# Define the graphing function\n",
        "def f(a,b,c,d,e,zoom):\n",
        "    xmin = -zoom\n",
        "    xmax = zoom\n",
        "    ymin = -zoom\n",
        "    ymax = zoom\n",
        "    points = 10*xmax-xmin\n",
        "    x = np.linspace(xmin, xmax, points)\n",
        "\n",
        "    plt.axis([xmin,xmax,ymin,ymax]) # window size\n",
        "    plt.plot([xmin,xmax],[0,0],'black') # black x axis\n",
        "    plt.plot([0,0],[ymin,ymax], 'black') # black y axis\n",
        "\n",
        "    # Line 1\n",
        "    y1 = a*b**(c*x-d) + e\n",
        "    plt.plot(x, y1)\n",
        "    plt.show()\n",
        "\n",
        "# Set up the sliders\n",
        "i_plot=interactive(f,a=(-9,9),b=(-9,9),c=(-9,9),d=(-9,9),e=(-9,9),zoom=(1,100))\n",
        "i_plot"
      ],
      "metadata": {
        "colab": {
          "base_uri": "https://localhost:8080/",
          "height": 457,
          "referenced_widgets": [
            "a7fb3d24859744ce9d7cf96f9095daf4",
            "f3033fa95118431781a2bba601a330f4",
            "ace8a3faeef5404393fd7d392cdc6ef2",
            "00032c7e7e3c4097951278b27b45df1b",
            "fd1ab6177cc34429b9671764b95a80a3",
            "f67d740761fc4d19b1cd03c688cc52cc",
            "b9e3ade1e60d49e4833f08daf8a658b1",
            "0d3c96cbe15a4b01b337a639e53c157e",
            "2388bacc5f6946c08197c9cea7f521b0",
            "fbeb35c6c348435bb630b25f45bd0b51",
            "fe82ba23d08b4f8c8e8e241d92f9f55c",
            "6a795baadb414134b826c78448445668",
            "4ad4e827355c4d49bc11f6610e8fb46d",
            "69d9342fe2b14404b65ddf4cffcfaaa0",
            "eb6750e02b714d4ab914205288ac427c",
            "082658da2aa54acbae74b13bd642cc7d",
            "179dc71100b74b5d8bed7e89820ae892",
            "0ad2c0b324df450f93e0fda3a3fce2f3",
            "da1b6b5b25884bf3acd4036d5177381f",
            "20b49de261624871850c742b698e7ee8",
            "4f2616904e4047288f0b061a529c0361",
            "886596d88e024d008826d0759bf0b2b4"
          ]
        },
        "outputId": "310320be-e54a-480d-de78-74b3b183a20d",
        "id": "FXmd-ImmwpLO"
      },
      "execution_count": null,
      "outputs": [
        {
          "output_type": "display_data",
          "data": {
            "text/plain": [
              "interactive(children=(IntSlider(value=0, description='a', max=9, min=-9), IntSlider(value=0, description='b', …"
            ],
            "application/vnd.jupyter.widget-view+json": {
              "version_major": 2,
              "version_minor": 0,
              "model_id": "a7fb3d24859744ce9d7cf96f9095daf4"
            }
          },
          "metadata": {}
        }
      ]
    },
    {
      "cell_type": "code",
      "source": [],
      "metadata": {
        "id": "ZidmyXWC1c63"
      },
      "execution_count": null,
      "outputs": []
    },
    {
      "cell_type": "markdown",
      "source": [
        "Selling tee shirts example\n",
        "销售 T 恤示例"
      ],
      "metadata": {
        "id": "jN-wrAUXjCq2"
      }
    },
    {
      "cell_type": "code",
      "execution_count": null,
      "metadata": {
        "id": "evLVBly4g6DD",
        "colab": {
          "base_uri": "https://localhost:8080/"
        },
        "outputId": "89a8b7dc-4340-41f8-b663-2ef360f891f6"
      },
      "outputs": [
        {
          "output_type": "stream",
          "name": "stdout",
          "text": [
            "price:  10\n",
            "demand:  30\n",
            "revenue:  300\n",
            "total cost:  120\n",
            "profit  180\n"
          ]
        }
      ],
      "source": [
        "\n",
        "\n",
        "price = 10\n",
        "demand = 50 - 2*price\n",
        "revenue = price*demand\n",
        "total_cost = 4*demand\n",
        "profit = revenue - total_cost\n",
        "\n",
        "print(\"price: \", price)\n",
        "print(\"demand: \", demand)\n",
        "print(\"revenue: \", revenue)\n",
        "print(\"total cost: \", total_cost)\n",
        "print(\"profit \", profit)\n"
      ]
    },
    {
      "cell_type": "code",
      "source": [
        "import matplotlib.pyplot as plt\n",
        "import numpy as np\n",
        "\n",
        "# price = x\n",
        "# demand = y\n",
        "\n",
        "price_1 = 2\n",
        "demand_1 = 46\n",
        "price_2 = 10\n",
        "demand_2 = 30\n",
        "m = (demand_2 - demand_1)/(price_2 - price_1)\n",
        "b = demand_1 - m*price_1\n",
        "# This becomes a y = mx + b equation\n",
        "\n",
        "xmin = 0\n",
        "xmax = 50\n",
        "ymin = 0\n",
        "ymax = 320\n",
        "points = 10*(xmax-xmin)\n",
        "x = np.linspace(xmin,xmax,points)\n",
        "\n",
        "fig, ax = plt.subplots()\n",
        "plt.axis([xmin,xmax,ymin,ymax]) # window size\n",
        "plt.plot([xmin,xmax],[0,0],'b') # blue x axis\n",
        "plt.plot([0,0],[ymin,ymax], 'b') # blue y axis\n",
        "\n",
        "plt.xlabel(\"Price\")\n",
        "plt.title(\"Financial Algebra\")\n",
        "\n",
        "# line 1\n",
        "demand = m*x + b\n",
        "#plt.ylabel(\"Demand\")\n",
        "#plt.plot(x, demand)\n",
        "\n",
        "# line 2\n",
        "revenue = x*demand\n",
        "plt.plot(x, revenue)\n",
        "plt.ylabel(\"Revenue\")\n",
        "\n",
        "plt.show()\n",
        "\n"
      ],
      "metadata": {
        "id": "_4zOmGCNgY3z",
        "colab": {
          "base_uri": "https://localhost:8080/",
          "height": 295
        },
        "outputId": "ba217740-2fbc-4651-afe2-5b275d619deb"
      },
      "execution_count": null,
      "outputs": [
        {
          "output_type": "display_data",
          "data": {
            "text/plain": [
              "<Figure size 432x288 with 1 Axes>"
            ],
            "image/png": "[encoded data removed]"
          },
          "metadata": {
            "needs_background": "light"
          }
        }
      ]
    },
    {
      "cell_type": "code",
      "source": [],
      "metadata": {
        "id": "1ancvJ251g9_"
      },
      "execution_count": null,
      "outputs": []
    },
    {
      "cell_type": "markdown",
      "metadata": {
        "id": "l48ljbtEwCIq"
      },
      "source": [
        "Simple interest<br>简单利息\n",
        "principle * rate * time = interest\n",
        "本金 * 利率 * 时间 = 利息"
      ]
    },
    {
      "cell_type": "code",
      "execution_count": null,
      "metadata": {
        "id": "7SGCtdoGvswP",
        "colab": {
          "base_uri": "https://localhost:8080/"
        },
        "outputId": "1af4ca54-c78b-47fd-89c9-ec8faf2a5874"
      },
      "outputs": [
        {
          "output_type": "stream",
          "name": "stdout",
          "text": [
            "interest =  50.0\n"
          ]
        }
      ],
      "source": [
        "p = 1000\n",
        "r = .05\n",
        "t = 1\n",
        "interest = p*r*t\n",
        "print(\"interest = \", interest)\n"
      ]
    },
    {
      "cell_type": "markdown",
      "metadata": {
        "id": "JX_4BnO2wnVU"
      },
      "source": [
        "New amount = principle + interest\n",
        "新金额 = 本金 + 利息"
      ]
    },
    {
      "cell_type": "code",
      "execution_count": null,
      "metadata": {
        "id": "eWfb95dxww0U",
        "colab": {
          "base_uri": "https://localhost:8080/"
        },
        "outputId": "d00e25e9-4830-478c-d8a0-cf9059d4a459"
      },
      "outputs": [
        {
          "output_type": "stream",
          "name": "stdout",
          "text": [
            "New amount =  1150.0\n"
          ]
        }
      ],
      "source": [
        "p = 1000\n",
        "r = .05\n",
        "t = 3\n",
        "interest = p*r*t\n",
        "a = p + interest\n",
        "print(\"New amount = \", a)\n"
      ]
    },
    {
      "cell_type": "markdown",
      "metadata": {
        "id": "c4r9qvhsxMHA"
      },
      "source": [
        "The algebra for any percent increase:<br>\n",
        "任何百分比增长的代数：\n",
        "New amount = p + p*r<br>\n",
        "new amount = p * (1 + r)<br>\n",
        "新金额 = p * (1 + r)\n",
        "\n",
        "\n"
      ]
    },
    {
      "cell_type": "code",
      "execution_count": null,
      "metadata": {
        "id": "2K1yAOMwxvxE",
        "colab": {
          "base_uri": "https://localhost:8080/"
        },
        "outputId": "aea4dfba-0643-4b3f-eaf0-b2001d7b7d43"
      },
      "outputs": [
        {
          "output_type": "stream",
          "name": "stdout",
          "text": [
            "New amount =  1050.0\n"
          ]
        }
      ],
      "source": [
        "p = 1000\n",
        "r = .05\n",
        "a = p*(1+r)\n",
        "print(\"New amount = \", a)\n"
      ]
    },
    {
      "cell_type": "markdown",
      "metadata": {
        "id": "uObwM4RAx7mx"
      },
      "source": [
        "Compounding is adding the interest to the principle and then calculating\n",
        "percent increase from this new amount<br>\n",
        "复利就是将利息加到本金上，然后计算复利等于加到本金上，然后利息从这个新金额计算百分比从这个新金额增加\n",
        "Original amount = P<br>\n",
        "原始金额 = P\n",
        "New amount = P*(1+r)<br>\n",
        "新金额 = P(1+r)\n",
        "Compounded again = P*(1+r)*(1+r)<br>\n",
        "再次复利 = P(1+r)(1+r)\n",
        "And again = P*(1+r)*(1+r)*(1+r) = P(1+r)<sup>3</sup>"
      ]
    },
    {
      "cell_type": "code",
      "execution_count": null,
      "metadata": {
        "id": "FaIHh86Wztag",
        "colab": {
          "base_uri": "https://localhost:8080/"
        },
        "outputId": "64ae26c2-1b02-44ac-f9be-ce6c17d1c308"
      },
      "outputs": [
        {
          "output_type": "stream",
          "name": "stdout",
          "text": [
            "Annuity =  1157.6250000000002\n"
          ]
        }
      ],
      "source": [
        "P = 1000\n",
        "r = .05\n",
        "t = 3\n",
        "annuity = p*(1+r)**t\n",
        "\n",
        "print(\"Annuity = \", annuity)\n"
      ]
    },
    {
      "cell_type": "markdown",
      "metadata": {
        "id": "MByKs5750erH"
      },
      "source": [
        "When the compunding happens `n` times per year, here is the formula:<br>\n",
        "当每年复利发生 n 次时，这里是有公式：\n",
        "A = P(1 +  $\\frac{r}{n})^{nt}$"
      ]
    },
    {
      "cell_type": "code",
      "execution_count": null,
      "metadata": {
        "id": "lOiY47piBYg-",
        "colab": {
          "base_uri": "https://localhost:8080/"
        },
        "outputId": "59987cd6-538a-45c5-cd96-83d3393d4727"
      },
      "outputs": [
        {
          "output_type": "stream",
          "name": "stdout",
          "text": [
            "Annuity =  1161.4722313334678\n"
          ]
        }
      ],
      "source": [
        "P = 1000\n",
        "r = .05\n",
        "t = 3\n",
        "n = 12\n",
        "\n",
        "# use extra parentheses\n",
        "annuity = p*(1+(r/n))**(n*t)\n",
        "\n",
        "print(\"Annuity = \", annuity)\n"
      ]
    },
    {
      "cell_type": "markdown",
      "metadata": {
        "id": "rXT0ZjbTCcFm"
      },
      "source": [
        "the irrational number e\n",
        "无理数 e"
      ]
    },
    {
      "cell_type": "code",
      "execution_count": null,
      "metadata": {
        "colab": {
          "base_uri": "https://localhost:8080/"
        },
        "id": "FAQSLlRkCpPc",
        "outputId": "7fcc6ceb-18fe-40be-b33e-2deb526ee071"
      },
      "outputs": [
        {
          "output_type": "stream",
          "name": "stdout",
          "text": [
            "2.718281828459045\n"
          ]
        }
      ],
      "source": [
        "import math\n",
        "\n",
        "print(math.e)\n"
      ]
    },
    {
      "cell_type": "markdown",
      "metadata": {
        "id": "jwkJMQaZDWFh"
      },
      "source": [
        "Continuous growth: Annuity = Pe<sup>rt</sup>\n",
        "\n",
        "持续增长：年金 = Pe"
      ]
    },
    {
      "cell_type": "code",
      "execution_count": null,
      "metadata": {
        "id": "I3XM_jH1C5AB",
        "colab": {
          "base_uri": "https://localhost:8080/"
        },
        "outputId": "94db8735-a1f0-4d65-d8da-0f22c293c655"
      },
      "outputs": [
        {
          "output_type": "stream",
          "name": "stdout",
          "text": [
            "1161.8298860036332  or  1161.834242728283\n"
          ]
        }
      ],
      "source": [
        "import math\n",
        "\n",
        "p = 1000\n",
        "r = .05\n",
        "t = 3\n",
        "n = 1000\n",
        "\n",
        "n_times = p*(1+(r/n))**(n*t)\n",
        "\n",
        "continuous = p*math.e**(r*t)\n",
        "\n",
        "print(n_times, \" or \", continuous)\n",
        "\n"
      ]
    },
    {
      "cell_type": "markdown",
      "metadata": {
        "id": "UZfzA-XlIp-F"
      },
      "source": [
        "Mortgage formula<br>抵押贷款公式\n",
        "monthly payment = P$\\frac{\\frac{r}{12}(1 + \\frac{r}{12})^{12t}}{(1 + \\frac{r}{12})^{12t} - 1}$\n",
        "月供\n"
      ]
    },
    {
      "cell_type": "code",
      "execution_count": null,
      "metadata": {
        "colab": {
          "base_uri": "https://localhost:8080/"
        },
        "id": "5do22sV_Fa7I",
        "outputId": "22bf51ff-2958-402b-bb2c-9f949e6a8526"
      },
      "outputs": [
        {
          "output_type": "stream",
          "name": "stdout",
          "text": [
            "monthly payment =  1362.69\n"
          ]
        }
      ],
      "source": [
        "p = 240000\n",
        "r = .055\n",
        "t = 30\n",
        "\n",
        "# Break down that formula into parts\n",
        "numerator = (r/12)*(1+(r/12))**(12*t)\n",
        "denominator = (1+(r/12))**(12*t) - 1\n",
        "payment = round(p*numerator/denominator, 2)\n",
        "\n",
        "print(\"monthly payment = \", payment)\n"
      ]
    },
    {
      "cell_type": "markdown",
      "metadata": {
        "id": "V4YPkA6CLM1b"
      },
      "source": [
        "Amortization (mortgage payment schedule)\n",
        "摊销（按揭还款计划）"
      ]
    },
    {
      "cell_type": "code",
      "execution_count": null,
      "metadata": {
        "id": "tpRMuLdDJ6s8",
        "colab": {
          "base_uri": "https://localhost:8080/"
        },
        "outputId": "5987d0d3-1bb4-46f2-8254-7368802776e9"
      },
      "outputs": [
        {
          "output_type": "stream",
          "name": "stdout",
          "text": [
            "payment =  1362.69\n",
            "month \t balance \t interest\n",
            "0 \t 240000.0 \t 1100.0\n",
            "24 \t 233351.69 \t 1069.53\n",
            "48 \t 225932.19 \t 1035.52\n",
            "72 \t 217652.04 \t 997.57\n",
            "96 \t 208411.46 \t 955.22\n",
            "120 \t 198098.97 \t 907.95\n",
            "144 \t 186590.25 \t 855.21\n",
            "168 \t 173746.54 \t 796.34\n",
            "192 \t 159412.99 \t 730.64\n",
            "216 \t 143416.81 \t 657.33\n",
            "240 \t 125565.08 \t 575.51\n",
            "264 \t 105642.58 \t 484.2\n",
            "288 \t 83409.15 \t 382.29\n",
            "312 \t 58596.68 \t 268.57\n",
            "336 \t 30906.0 \t 141.65\n",
            "359 \t 1359.74 \t 6.23\n"
          ]
        }
      ],
      "source": [
        "p = 240000.00\n",
        "r = .055\n",
        "t = 30\n",
        "\n",
        "\n",
        "# Break down that formula into parts\n",
        "numerator = (r/12)*(1+(r/12))**(12*t)\n",
        "denominator = (1+(r/12))**(12*t) - 1\n",
        "payment = round(p* numerator/denominator, 2)\n",
        "\n",
        "print(\"payment = \", payment)\n",
        "\n",
        "# loop to show interest amounts\n",
        "balance = p\n",
        "print(\"month \\t balance \\t interest\")\n",
        "for a in range(12*t):\n",
        "    interest = round(balance*r/12, 2)\n",
        "    if a%24==0 or a==359:\n",
        "        print(a, \"\\t\", balance, \"\\t\", interest)\n",
        "    balance = round(balance+interest-payment,2)\n",
        "\n"
      ]
    },
    {
      "cell_type": "markdown",
      "metadata": {
        "id": "zu20IkH4SULn"
      },
      "source": [
        "Retirement account estimation\n",
        "退休账户估算"
      ]
    },
    {
      "cell_type": "code",
      "execution_count": null,
      "metadata": {
        "id": "xhyuJ4eyOCan",
        "colab": {
          "base_uri": "https://localhost:8080/"
        },
        "outputId": "9e809783-0d51-4384-c8e8-aaf1f8d3addc"
      },
      "outputs": [
        {
          "output_type": "stream",
          "name": "stdout",
          "text": [
            "annuity =  1061597.32\n",
            "Annual income from interest =  84927.79\n"
          ]
        }
      ],
      "source": [
        "# Change these variables\n",
        "p = 1000\n",
        "r = .08\n",
        "t = 38\n",
        "monthly = 350\n",
        "\n",
        "# The loop will update this variable\n",
        "annuity = p\n",
        "\n",
        "# loop for contribution and percent growth\n",
        "for a in range(12*t):\n",
        "    annuity = (annuity+monthly)*(1+(r/12))\n",
        "\n",
        "print(\"annuity = \", round(annuity, 2))\n",
        "print(\"Annual income from interest = \", round(annuity*r, 2))\n"
      ]
    },
    {
      "cell_type": "markdown",
      "source": [
        "Payment function without rounding\n",
        "\n",
        "支付函数，无需四舍五入"
      ],
      "metadata": {
        "id": "VHoXHzmy4vJb"
      }
    },
    {
      "cell_type": "code",
      "execution_count": null,
      "metadata": {
        "id": "UUWKGOlrwtGk",
        "colab": {
          "base_uri": "https://localhost:8080/"
        },
        "outputId": "4754fed8-8eb5-45be-e22e-31623969f800"
      },
      "outputs": [
        {
          "output_type": "stream",
          "name": "stdout",
          "text": [
            "1199.1010503055138\n"
          ]
        }
      ],
      "source": [
        "def payment(p,r,t):\n",
        "    numerator = (r/12)*(1+(r/12))**(12*t)\n",
        "    denominator = (1+(r/12))**(12*t) - 1\n",
        "    payment = p*numerator/denominator\n",
        "    return payment\n",
        "\n",
        "print(payment(200000,.06,30))\n"
      ]
    },
    {
      "cell_type": "markdown",
      "source": [
        "Similar function with rounding to compare payments for slight changes in principle\n",
        "类似的功能，通过四舍五入来比较本金微小变化时的付款"
      ],
      "metadata": {
        "id": "H5gcMwCix3k3"
      }
    },
    {
      "cell_type": "code",
      "source": [
        "%matplotlib inline\n",
        "from ipywidgets import interactive\n",
        "\n",
        "def pmt(p):\n",
        "    r = .06\n",
        "    t = 30\n",
        "    numerator = (r/12)*(1+(r/12))**(12*t)\n",
        "    denominator = (1+(r/12))**(12*t) - 1\n",
        "    pay = round(p*numerator/denominator, 2)\n",
        "    print(\"Principle: \", p, \" Payment: \", pay)\n",
        "\n",
        "show_slider = interactive(pmt, p=(0,300000))\n",
        "show_slider\n"
      ],
      "metadata": {
        "id": "FXUJ2U4s0uNa",
        "colab": {
          "base_uri": "https://localhost:8080/",
          "height": 67,
          "referenced_widgets": [
            "af8c27953f384b3893bcbe7ec68f684d",
            "869eafb9da6c4bc9b39949be363c408d",
            "d8893a0a8aeb4523807cd8dfd7300961",
            "dba9303ae11547218d939f5a0fa5865f",
            "16bd07abbc684dc790b0f221bd07f2d3",
            "c58c93059f7f43d1a403e45afd3e2048",
            "521697060633431b9f8950ae4db83911"
          ]
        },
        "outputId": "c070f59f-c6ef-4f22-e013-a89d31a242c3"
      },
      "execution_count": null,
      "outputs": [
        {
          "output_type": "display_data",
          "data": {
            "text/plain": [
              "interactive(children=(IntSlider(value=150000, description='p', max=300000), Output()), _dom_classes=('widget-i…"
            ],
            "application/vnd.jupyter.widget-view+json": {
              "version_major": 2,
              "version_minor": 0,
              "model_id": "af8c27953f384b3893bcbe7ec68f684d"
            }
          },
          "metadata": {}
        }
      ]
    },
    {
      "cell_type": "markdown",
      "source": [
        "Maybe notice the trend, so graph it and see\n",
        "也许注意到趋势，所以画出来看看"
      ],
      "metadata": {
        "id": "1A_GdFKi3K2j"
      }
    },
    {
      "cell_type": "code",
      "source": [
        "import matplotlib.pyplot as plt\n",
        "import numpy as np\n",
        "\n",
        "xmin = 0\n",
        "xmax = 300000\n",
        "ymin = 0\n",
        "ymax = 4000\n",
        "points = 10*xmax-xmin\n",
        "x = np.linspace(xmin, xmax, points)\n",
        "\n",
        "fig, ax = plt.subplots()\n",
        "plt.axis([xmin,xmax,ymin,ymax]) # window size\n",
        "plt.plot([xmin,xmax],[0,0],'black') # black x axis\n",
        "plt.plot([0,0],[ymin,ymax], 'black') # black y axis\n",
        "plt.grid()\n",
        "ax.set_xlabel(\"amount borrowed\")\n",
        "ax.set_ylabel(\"monthly payment\")\n",
        "\n",
        "\n",
        "# Line 1 - payment without rounding\n",
        "y1 = payment(x,.06,30)\n",
        "plt.plot(x, y1)\n",
        "plt.show()\n"
      ],
      "metadata": {
        "colab": {
          "base_uri": "https://localhost:8080/",
          "height": 283
        },
        "id": "hSJvKT8K3P5r",
        "outputId": "2440e9bf-dc42-4339-cd80-ee0bb00e716d"
      },
      "execution_count": null,
      "outputs": [
        {
          "output_type": "display_data",
          "data": {
            "text/plain": [
              "<Figure size 432x288 with 1 Axes>"
            ],
            "image/png": "[encoded data removed]"
          },
          "metadata": {
            "needs_background": "light"
          }
        }
      ]
    },
    {
      "cell_type": "markdown",
      "source": [
        "Slope formula\n",
        "\n",
        "斜率公式\n",
        "\n"
      ],
      "metadata": {
        "id": "JgGBg04N5TRn"
      }
    },
    {
      "cell_type": "code",
      "source": [
        "r = .06\n",
        "t = 30\n",
        "\n",
        "x1 = 50000\n",
        "y1 = payment(x1,r,t)\n",
        "x2 = 300000\n",
        "y2 = payment(x2,r,t)\n",
        "\n",
        "\n",
        "slope = (y2-y1)/(x2-x1)\n",
        "print(\"Slope = \", slope)\n",
        "\n"
      ],
      "metadata": {
        "id": "tlV9Nid85ctH",
        "colab": {
          "base_uri": "https://localhost:8080/"
        },
        "outputId": "c983c602-91ce-4d3e-90de-4b852ffc4a23"
      },
      "execution_count": null,
      "outputs": [
        {
          "output_type": "stream",
          "name": "stdout",
          "text": [
            "Slope =  0.0059955052515275695\n"
          ]
        }
      ]
    },
    {
      "cell_type": "code",
      "source": [],
      "metadata": {
        "id": "RPNp02KQ1zLH"
      },
      "execution_count": null,
      "outputs": []
    },
    {
      "cell_type": "markdown",
      "source": [
        "Base 10, the common log\n",
        "十进制，常见的对数"
      ],
      "metadata": {
        "id": "2ACcb10TDBWn"
      }
    },
    {
      "cell_type": "code",
      "execution_count": null,
      "metadata": {
        "id": "utu7V3SwCaYe",
        "colab": {
          "base_uri": "https://localhost:8080/"
        },
        "outputId": "5598b909-04a0-4eb9-d97d-153baca06cec"
      },
      "outputs": [
        {
          "output_type": "stream",
          "name": "stdout",
          "text": [
            "4.0\n",
            "2.9999999999999996\n",
            "3.0\n"
          ]
        }
      ],
      "source": [
        "import math\n",
        "\n",
        "print(math.log(10000,10))\n",
        "\n",
        "# Python weirdness\n",
        "print(math.log(1000,10))\n",
        "\n",
        "print(round(math.log(1000,10),4))\n",
        "\n",
        "\n"
      ]
    },
    {
      "cell_type": "markdown",
      "source": [
        "Base 2, or any other base\n",
        "\n",
        "二进制，或任何其他进制"
      ],
      "metadata": {
        "id": "O3Iw8QL4DLCV"
      }
    },
    {
      "cell_type": "code",
      "source": [
        "import math\n",
        "\n",
        "print(math.log(15,2))\n"
      ],
      "metadata": {
        "id": "JVTYImelC2rO",
        "colab": {
          "base_uri": "https://localhost:8080/"
        },
        "outputId": "9ce0aeea-9235-4373-bf2a-24f388da9bf7"
      },
      "execution_count": null,
      "outputs": [
        {
          "output_type": "stream",
          "name": "stdout",
          "text": [
            "3.9068905956085187\n"
          ]
        }
      ]
    },
    {
      "cell_type": "markdown",
      "source": [
        "Natural log\n",
        "自然对数--e"
      ],
      "metadata": {
        "id": "sy8-Jln7EJZ3"
      }
    },
    {
      "cell_type": "code",
      "source": [
        "import math\n",
        "\n",
        "x = math.e**3\n",
        "# e = 2.718281828\n",
        "\n",
        "print(math.log(x))\n"
      ],
      "metadata": {
        "colab": {
          "base_uri": "https://localhost:8080/"
        },
        "id": "Z9chIleSEOdM",
        "outputId": "c4a4086c-10f5-43b4-f98d-971bd5d4ed48"
      },
      "execution_count": null,
      "outputs": [
        {
          "output_type": "stream",
          "name": "stdout",
          "text": [
            "3.0\n"
          ]
        }
      ]
    },
    {
      "cell_type": "markdown",
      "source": [
        "A good use of natural log: how long will it take for an investment to double in value?<br>\n",
        "Start with the continuous growth formula:<br>\n",
        "A = Pe<sup>rt</sup><br>\n",
        "If the amount is double, then annuity is two times the principle:<br>\n",
        "2P = Pe<sup>rt</sup><br>\n",
        "Divide both sides by P and get this:<br>\n",
        "2 = e<sup>rt</sup><br>\n",
        "Because of the base <i>e</i>, take the natural log of both sides and get this:<br>\n",
        "ln(2) = rt<br>\n",
        "Then divide by r to solve for t.<br>\n",
        "$\\frac{ln(2)}{r}$ = t\n"
      ],
      "metadata": {
        "id": "V-UdGwh6GPX7"
      }
    },
    {
      "cell_type": "code",
      "source": [
        "import math\n",
        "\n",
        "# Rate of increase as a decimal\n",
        "r = .09\n",
        "\n",
        "# Natural log of 2 divided by rate\n",
        "t = round(math.log(2)/r)\n",
        "\n",
        "print(\"It will double in \", t, \" years\")"
      ],
      "metadata": {
        "id": "9cnrLkVqEVAa",
        "colab": {
          "base_uri": "https://localhost:8080/"
        },
        "outputId": "b3f0b17b-d6c8-4f2c-d5ce-45bacaba76ea"
      },
      "execution_count": null,
      "outputs": [
        {
          "output_type": "stream",
          "name": "stdout",
          "text": [
            "It will double in  8  years\n"
          ]
        }
      ]
    },
    {
      "cell_type": "markdown",
      "source": [
        "Graphing"
      ],
      "metadata": {
        "id": "cjapP-ykunFl"
      }
    },
    {
      "cell_type": "code",
      "source": [
        "import matplotlib.pyplot as plt\n",
        "import numpy as np\n",
        "import math\n",
        "\n",
        "xmin = -10\n",
        "xmax = 10\n",
        "ymin = -10\n",
        "ymax = 10\n",
        "points = 10*(xmax-xmin)\n",
        "x = np.linspace(xmin,xmax,points)\n",
        "x2 = np.linspace(.01,xmax,points)\n",
        "\n",
        "fig, ax = plt.subplots()\n",
        "plt.axis([xmin,xmax,ymin,ymax]) # window size\n",
        "plt.plot([xmin,xmax],[0,0],'b') # blue x axis\n",
        "plt.plot([0,0],[ymin,ymax], 'b') # blue y axis\n",
        "\n",
        "# line 1\n",
        "y1 = 2**x\n",
        "#y1 = math.e**x\n",
        "plt.plot(x, y1)\n",
        "\n",
        "# line 2\n",
        "y2 = np.log2(x2)\n",
        "#y2 = np.log(x2)\n",
        "plt.plot(x2, y2)\n",
        "\n",
        "# line 3\n",
        "y3 = x\n",
        "plt.plot(x, y3)\n",
        "\n",
        "plt.show()"
      ],
      "metadata": {
        "id": "8F4rj4zjG9An",
        "colab": {
          "base_uri": "https://localhost:8080/",
          "height": 269
        },
        "outputId": "ea7b6e1c-18f7-4001-c71e-2526d4bf001f"
      },
      "execution_count": null,
      "outputs": [
        {
          "output_type": "display_data",
          "data": {
            "text/plain": [
              "<Figure size 432x288 with 1 Axes>"
            ],
            "image/png": "[encoded data removed]"
          },
          "metadata": {
            "needs_background": "light"
          }
        }
      ]
    },
    {
      "cell_type": "markdown",
      "source": [
        "Scientific notation\n",
        "科学记数法"
      ],
      "metadata": {
        "id": "qoxrE4DKxg83"
      }
    },
    {
      "cell_type": "code",
      "source": [
        "print(3.2*10**5)\n"
      ],
      "metadata": {
        "id": "ZXlOet5VxkZl"
      },
      "execution_count": null,
      "outputs": []
    },
    {
      "cell_type": "markdown",
      "source": [
        "Exponent -2 works fine\n",
        "指数 -2 运作正常"
      ],
      "metadata": {
        "id": "jelLz0ta0Gnt"
      }
    },
    {
      "cell_type": "code",
      "source": [
        "print(4.5*10**-2)\n"
      ],
      "metadata": {
        "colab": {
          "base_uri": "https://localhost:8080/"
        },
        "id": "RBoOkMkoz8oP",
        "outputId": "7ff826f7-c310-4b9c-a742-551b4430904e"
      },
      "execution_count": null,
      "outputs": [
        {
          "output_type": "stream",
          "name": "stdout",
          "text": [
            "0.045\n"
          ]
        }
      ]
    },
    {
      "cell_type": "markdown",
      "source": [
        "Exponent -3 gets weird\n",
        "\n",
        "指数 -3 会变得奇怪"
      ],
      "metadata": {
        "id": "TzoeVsmM0KXf"
      }
    },
    {
      "cell_type": "code",
      "source": [
        "print(4.5*10**-3)\n"
      ],
      "metadata": {
        "id": "y6royhyAx5ht",
        "colab": {
          "base_uri": "https://localhost:8080/"
        },
        "outputId": "1c77d2b6-4188-46de-f893-5efd80415094"
      },
      "execution_count": null,
      "outputs": [
        {
          "output_type": "stream",
          "name": "stdout",
          "text": [
            "0.0045000000000000005\n"
          ]
        }
      ]
    },
    {
      "cell_type": "markdown",
      "source": [
        "Exponent -4 requires round() to display decimal notation\n",
        "\n",
        "指数 -4 需要使用 round() 函数以显示十进制表示法"
      ],
      "metadata": {
        "id": "8FSaayYu0QMe"
      }
    },
    {
      "cell_type": "code",
      "source": [
        "a = round(4.5*10**-4,5)\n",
        "print(a)\n"
      ],
      "metadata": {
        "colab": {
          "base_uri": "https://localhost:8080/"
        },
        "id": "WFITkNdLxycc",
        "outputId": "0d021bfd-082e-4585-974d-fb79ab90c61e"
      },
      "execution_count": null,
      "outputs": [
        {
          "output_type": "stream",
          "name": "stdout",
          "text": [
            "0.00045\n"
          ]
        }
      ]
    },
    {
      "cell_type": "markdown",
      "source": [
        "Exponent -5 forces the scientific notation\n",
        "\n",
        "指数-5 强制使用科学记数法"
      ],
      "metadata": {
        "id": "epY7WqDr1Uvc"
      }
    },
    {
      "cell_type": "code",
      "source": [
        "a = round(4.5*10**-5,6)\n",
        "print(a)"
      ],
      "metadata": {
        "colab": {
          "base_uri": "https://localhost:8080/"
        },
        "id": "uO-pTAoaz3No",
        "outputId": "bd1ef5bf-e424-405e-b798-b226b6b961ec"
      },
      "execution_count": null,
      "outputs": [
        {
          "output_type": "stream",
          "name": "stdout",
          "text": [
            "4.5e-05\n"
          ]
        }
      ]
    },
    {
      "cell_type": "markdown",
      "source": [
        "Convert to scientific notation\n",
        "转换为科学记数法"
      ],
      "metadata": {
        "id": "Yj8kUuQf2MnB"
      }
    },
    {
      "cell_type": "code",
      "source": [
        "import math\n",
        "\n",
        "a = .0005\n",
        "\n",
        "exp = math.floor(math.log(a, 10))\n",
        "n = round(a/(10**exp),2)\n",
        "\n",
        "# This addresses rounding errors\n",
        "if n>=10:\n",
        "    exp = exp +1\n",
        "    n = a/(10**exp)\n",
        "\n",
        "print(a, \" = \", n, \"* 10**\", exp)\n"
      ],
      "metadata": {
        "colab": {
          "base_uri": "https://localhost:8080/"
        },
        "id": "8SxnJ4RA2P3V",
        "outputId": "9c797e9d-b609-4143-a830-2570cf88545f"
      },
      "execution_count": null,
      "outputs": [
        {
          "output_type": "stream",
          "name": "stdout",
          "text": [
            "0.0005  =  5.0 * 10** -4\n"
          ]
        }
      ]
    }
  ]
}
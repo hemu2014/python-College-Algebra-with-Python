{
  "nbformat": 4,
  "nbformat_minor": 0,
  "metadata": {
    "colab": {
      "provenance": [],
      "toc_visible": true,
      "authorship_tag": "ABX9TyMsz1hT4DmMDoSJyGxoXOtV",
      "include_colab_link": true
    },
    "kernelspec": {
      "name": "python3",
      "display_name": "Python 3"
    },
    "language_info": {
      "name": "python"
    }
  },
  "cells": [
    {
      "cell_type": "markdown",
      "metadata": {
        "id": "view-in-github",
        "colab_type": "text"
      },
      "source": [
        "<a href=\"https://colab.research.google.com/github/hemu2014/python-College-Algebra-with-Python/blob/main/%E5%88%86%E6%95%B0%E4%B8%8E%E5%B0%8F%E6%95%B0%E7%BB%83%E4%B9%A0Week_03_practice.ipynb\" target=\"_parent\"><img src=\"https://colab.research.google.com/assets/colab-badge.svg\" alt=\"Open In Colab\"/></a>"
      ]
    },
    {
      "cell_type": "markdown",
      "source": [
        "Run this code to generate some practice problems\n",
        "\n",
        "\n",
        "运行此代码以生成一些练习题"
      ],
      "metadata": {
        "id": "w4HpJv98tvGv"
      }
    },
    {
      "cell_type": "code",
      "execution_count": 1,
      "metadata": {
        "id": "6qfzgS72rZbc",
        "colab": {
          "base_uri": "https://localhost:8080/"
        },
        "outputId": "62ec498b-c8bf-49b8-d08f-01a51ce4c565"
      },
      "outputs": [
        {
          "output_type": "stream",
          "name": "stdout",
          "text": [
            "Convert the following decimal to a fraction\n",
            "Just use the / to write your fraction\n",
            "0.776\n",
            "Fraction: 776/1000\n",
            "Correct! \n",
            "\n",
            "Convert the following fraction to a percent\n",
            "47 / 97\n",
            "Round your answer to two decimal places\n",
            "Percent: 48.45\n",
            "Correct!\n",
            " \n",
            "Convert the following decimal to a fraction\n",
            "Just use the / to write your fraction\n",
            "0.41\n",
            "Fraction: 41/100\n",
            "Correct! \n",
            "\n",
            "Convert the following fraction to a percent\n",
            "27 / 94\n",
            "Round your answer to two decimal places\n",
            "Percent: 3\n",
            "Try again\n",
            "The answer is  28.72\n",
            " \n"
          ]
        }
      ],
      "source": [
        "# converts string input (even fractions) to float\n",
        "# 将类似2/3转为小数\n",
        "def string_frac(in_string):\n",
        "    if \"/\" in in_string:\n",
        "        nd = in_string.split(\"/\")\n",
        "        n = float(nd[0])\n",
        "        d = float(nd[1])\n",
        "        ans = n/d\n",
        "        return ans\n",
        "    else:\n",
        "        ans = float(in_string)\n",
        "        return ans\n",
        "\n",
        "\n",
        "# Decimal to fraction\n",
        "def dec_to_frac_test():\n",
        "    import random\n",
        "    import math\n",
        "    # Uses string_frac()\n",
        "    print(\"Convert the following decimal to a fraction\")\n",
        "    print(\"Just use the / to write your fraction\")\n",
        "    places = random.randint(1,4) # 生成一个1,2,3的数\n",
        "    decimal = round(random.random(), places) # 保留相应的位数\n",
        "    print(decimal)  # 打印生成的值\n",
        "    d = 10**places  # 分母0.123， 1000\n",
        "    n = decimal*d  # 分子0.123， 123\n",
        "    ans_in = input(\"Fraction: \")\n",
        "    if string_frac(ans_in)==decimal: # 输入正确的话返回的值与decimal一致\n",
        "        print(\"Correct! \\n\")\n",
        "    else:\n",
        "        print(\"Try again\")\n",
        "        print(\"The answer is \", n, \"/\", d)\n",
        "\n",
        "\n",
        "# Fraction to percent\n",
        "def frac_to_perc_test():\n",
        "    import random\n",
        "    print(\"Convert the following fraction to a percent\")\n",
        "    n = round(random.randint(1,99))  # 生成一些随机数\n",
        "    d = round(random.randint(2,200))\n",
        "    print(n, \"/\", d)\n",
        "    percent = round(n/d*100,2)  # 转为百分比，保留两位小数\n",
        "    print(\"Round your answer to two decimal places\")\n",
        "    ans = float(input(\"Percent: \"))\n",
        "    if ans==percent:\n",
        "        print(\"Correct!\")\n",
        "    else:\n",
        "        print(\"Try again\")\n",
        "        print(\"The answer is \", percent) # 可以加一个%\n",
        "\n",
        "\n",
        "# test loop\n",
        "for a in range(2):\n",
        "    dec_to_frac_test()\n",
        "    frac_to_perc_test()\n",
        "    print(\" \")\n"
      ]
    }
  ]
}